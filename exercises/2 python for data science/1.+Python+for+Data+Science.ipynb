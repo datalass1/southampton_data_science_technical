{
 "cells": [
  {
   "cell_type": "markdown",
   "metadata": {},
   "source": [
    "# Python for Data Science\n",
    "\n",
    "Imagine there are two suspects who are making an exchange the authorities want to intercept, but getting an agent to the exchange location too soon would make them suspicious.  The data we will use, which is freely available, is about traffic flow and was obtained from data.gov.uk.  Using this data, and the functions provided in `magic.py`, your task is to determine the optimal time that the agent should leave from Southampton and travel up the M3 to Heathrow Airport.\n",
    "\n",
    "The exercises below are not assessed, but will give you an introduction to using common Python data structures and methods.  There's even a teaser for some statistical content, which will come in useful for week 4!  The code in `magic.py` will also be helpful for you to look at some of the ways a Python script works.\n",
    "\n",
    "In case you get stuck, the answers are available at [2. Python for Data Science - Answers.ipynb](2.%20Python%20for%20Data%20Science%20-%20Answers.ipynb)\n",
    "   \n",
    "   ***Strong suggestion - read the code contained in the 'magic.py' file***"
   ]
  },
  {
   "cell_type": "markdown",
   "metadata": {},
   "source": [
    "## Exercise 1\n",
    "**Please run the following code every time before starting the exercise**.  This helps make sure that all the helper functions are in place.  You can run code by pressing `Crtl` + `Enter`, or `Shift` + `Enter` if you want to move onto the next cell."
   ]
  },
  {
   "cell_type": "code",
   "execution_count": 8,
   "metadata": {
    "collapsed": false
   },
   "outputs": [],
   "source": [
    "from magic import *\n",
    "import pandas as pd"
   ]
  },
  {
   "cell_type": "markdown",
   "metadata": {},
   "source": [
    "## Exercise 2a\n",
    "Compute the amount of time it will take to get from Southampton to Heathrow using data from the first observed time (07:00).  Use the `get_arrival_time` function in [magic.py](magic.py) to help if you wish."
   ]
  },
  {
   "cell_type": "code",
   "execution_count": 9,
   "metadata": {
    "collapsed": false
   },
   "outputs": [
    {
     "name": "stdout",
     "output_type": "stream",
     "text": [
      "link\ttime taken (s)\tacc totals (s)\n",
      "1 \t 190.32 \t 190.32\n",
      "2 \t 158.85 \t 349.16999999999996\n",
      "3 \t 223.14 \t 572.31\n",
      "4 \t 93.21 \t 665.52\n",
      "5 \t 99.45 \t 764.97\n",
      "6 \t 1342.67 \t 2107.6400000000003\n",
      "7 \t 87.55 \t 2195.1900000000005\n",
      "8 \t 264.51 \t 2459.7000000000007\n",
      "9 \t 257.65 \t 2717.350000000001\n",
      "10 \t 387.22 \t 3104.5700000000006\n",
      "11 \t 310.45 \t 3415.0200000000004\n",
      "12 \t 623.01 \t 4038.0300000000007\n",
      "13 \t 716.88 \t 4754.910000000001\n",
      "arrival_time: 4754.910000000001\n"
     ]
    }
   ],
   "source": [
    "# N.B. model answers to the tasks in the 'Introduction Exercise' may be found in the file \n",
    "# `2. Python for Data Science - Answers.ipynb`,  by following the link above\n",
    "leaving_time = '07:00'\n",
    "\n",
    "journey_time = get_data(1, 2013, 1, leaving_time)[0] # assign the data to the first week of four arrays\n",
    "\n",
    "total_journey_time = 0\n",
    "\n",
    "print('link\\ttime taken (s)\\tacc totals (s)')\n",
    "\n",
    "for d in journey_time:\n",
    "    time_taken = journey_time[d]\n",
    "    total_journey_time += time_taken\n",
    "    print(d,'\\t', time_taken, '\\t', total_journey_time)\n",
    "  \n",
    "print('arrival_time: %s' %total_journey_time)\n",
    "\n",
    "### END ANSWER\n"
   ]
  },
  {
   "cell_type": "markdown",
   "metadata": {},
   "source": [
    "## EXERCISE 2b: \n",
    "Generalise your result so you are calculating the arrival time assuming you're leaving every 15 minutes between 05:00 to 09:00.  \n",
    "\n",
    "Using the code from EXERCISE 2a, create a function `calculate_arrivals`, which calculates the output for any provided inputs.  The function should contain the parameters:\n",
    "- `weekday` An integer, the day of the week\n",
    "- `year` An integer between 2012 and 2014 inclusive\n",
    "- `month` An integer between 1 and 12 inclusive\n",
    "- `leaving_time` A string in the format HH:MM, e.g., 07:00\n",
    "\n",
    "There are usually four weeks in the month, and the order of the data are not guaranteed, so you should not attempt to accurately determine the date at this point.  The data returned will be for the first instance of the `weekday` found in the month"
   ]
  },
  {
   "cell_type": "code",
   "execution_count": 19,
   "metadata": {
    "collapsed": false,
    "scrolled": true
   },
   "outputs": [
    {
     "name": "stdout",
     "output_type": "stream",
     "text": [
      "departure time\tarrival time\n",
      "leaving time: 05:00 arriving: 05:46:21\n",
      "leaving time: 05:15 arriving: 05:59:11\n",
      "leaving time: 05:30 arriving: 06:14:15\n",
      "leaving time: 05:45 arriving: 06:28:56\n",
      "leaving time: 06:00 arriving: 06:45:58\n",
      "leaving time: 06:15 arriving: 07:04:46\n",
      "leaving time: 06:30 arriving: 07:25:02\n",
      "leaving time: 06:45 arriving: 07:45:03\n",
      "leaving time: 07:00 arriving: 08:07:47\n",
      "leaving time: 07:15 arriving: 08:23:46\n",
      "leaving time: 07:30 arriving: 08:34:13\n",
      "leaving time: 07:45 arriving: 08:46:13\n",
      "leaving time: 08:00 arriving: 08:58:36\n",
      "leaving time: 08:15 arriving: 09:09:22\n",
      "leaving time: 08:30 arriving: 09:21:09\n",
      "leaving time: 08:45 arriving: 09:37:49\n",
      "leaving time: 09:00 arriving: 09:49:32\n"
     ]
    }
   ],
   "source": [
    "# Copy your answer from EXERCISE 1a here, and make it into a function called \"calculate_arrivals\".  \n",
    "# Use that to complete this exercise\n",
    "\n",
    "def calculate_arrivals(weekday, year, month, leaving_time):\n",
    "    journey_data = get_data(weekday, year, month, leaving_time)[0]\n",
    "    \n",
    "    total_journey_time = 0\n",
    "    \n",
    "    for d in journey_data:\n",
    "        time_per_link = journey_data[d]\n",
    "        total_journey_time += time_per_link\n",
    "    return get_arrival_time(leaving_time, total_journey_time)\n",
    "\n",
    "leaving_time = '05:00'\n",
    "\n",
    "print('departure time\\tarrival time')\n",
    "\n",
    "for lt in range(0, 17):#this is 4x4 = 16, 4, 4 x 15mins in one hour and 4 hours between 5 - 9 \n",
    "    arr = calculate_arrivals(4, 2014, 3, leaving_time)\n",
    "    print('leaving time: %s arriving: %s' % (leaving_time, arr))\n",
    "    leaving_time = get_next_time(leaving_time)\n",
    "\n",
    "get_next_time('05:12')\n",
    "\n",
    "get_next_time??\n",
    "### END ANSWER"
   ]
  },
  {
   "cell_type": "markdown",
   "metadata": {},
   "source": [
    "## EXERCISE 2c: \n",
    "Using the solution you produced for EXERCISE 2b, calculate the estimated arrival time for any day in the first week for the first six months, in a single year (2012 - 2014 inclusive).  Return the results as a dictionary in the format:\n",
    "\n",
    "`{leaving_time: [list of arrival times]}`, e.g. `{'08:15': ['08:57:04', '09:16:28', ...]}`\n",
    "\n",
    "N.B. This might take a while to run!  Build your solution gradually, so that when you test your code, it doesn't run the entire dataset."
   ]
  },
  {
   "cell_type": "code",
   "execution_count": 25,
   "metadata": {
    "collapsed": false
   },
   "outputs": [
    {
     "name": "stdout",
     "output_type": "stream",
     "text": [
      "leaving at time: 07:00\n",
      "arriving at time: ['07:42:02', '08:09:31', '08:06:42', '08:01:16', '07:40:26', '07:42:21', '07:56:20', '07:57:45', '08:04:07', '07:54:02', '08:07:35', '07:43:46', '07:49:20', '07:53:50', '07:54:25', '07:53:59', '07:53:11', '07:56:00', '07:51:53', '07:54:04', '08:06:03', '07:48:02', '08:00:28', '07:49:50', '07:47:37', '07:47:48', '07:50:47', '07:40:43', '07:47:00', '07:46:55', '07:42:25', '07:43:45', '07:43:13', '07:44:27', '07:40:23', '07:43:23', '07:44:45', '07:44:29', '07:41:31', '07:43:28', '07:42:30', '07:46:06']\n",
      "\n",
      "leaving at time: 05:15\n",
      "arriving at time: ['06:00:20', '06:00:32', '05:56:38', '05:58:10', '05:58:27', '05:58:22', '06:01:56', '05:58:43', '05:55:13', '05:55:27', '05:58:21', '05:59:01', '05:56:33', '05:57:25', '05:58:15', '06:00:18', '05:58:03', '05:56:30', '06:00:50', '06:00:45', '05:57:08', '05:57:19', '05:58:48', '05:58:52', '05:59:13', '05:59:36', '05:57:04', '05:59:08', '05:58:01', '05:57:52', '05:59:46', '06:01:02', '05:57:40', '05:57:34', '05:58:59', '06:00:34', '06:01:30', '05:57:34', '06:00:39', '06:02:57', '05:58:15', '05:58:25']\n",
      "\n",
      "leaving at time: 05:00\n",
      "arriving at time: ['05:46:15', '05:45:55', '05:43:29', '05:43:53', '05:43:47', '05:43:26', '05:47:57', '05:44:48', '05:40:31', '05:41:41', '05:44:36', '05:41:13', '05:43:23', '05:42:28', '05:42:47', '05:49:55', '05:43:40', '05:40:33', '05:46:43', '05:48:16', '05:42:30', '05:46:09', '05:41:02', '05:44:05', '05:45:22', '05:44:40', '05:42:48', '05:44:31', '05:44:11', '05:42:36', '05:44:26', '05:46:00', '05:44:06', '05:43:25', '05:46:01', '05:46:05', '05:45:08', '05:43:07', '05:45:46', '05:47:59', '05:43:26', '05:42:40']\n",
      "\n",
      "leaving at time: 07:15\n",
      "arriving at time: ['07:54:36', '08:29:03', '08:19:51', '08:18:05', '08:00:12', '07:57:00', '08:10:53', '08:18:23', '08:24:39', '08:09:44', '08:29:33', '07:56:06', '08:05:06', '08:09:42', '08:15:19', '08:12:46', '08:08:47', '08:09:55', '08:08:47', '08:13:29', '08:30:27', '08:02:59', '08:16:58', '08:08:21', '08:04:05', '08:03:29', '08:04:36', '07:56:10', '08:01:30', '08:01:56', '07:57:47', '08:00:11', '07:57:50', '07:59:50', '07:57:56', '07:57:20', '07:59:44', '07:58:59', '07:57:32', '07:55:59', '07:58:39', '07:58:18']\n",
      "\n",
      "leaving at time: 06:15\n",
      "arriving at time: ['06:59:55', '07:06:37', '07:05:23', '07:01:40', '06:55:25', '06:58:21', '07:02:30', '07:03:04', '07:00:23', '07:00:28', '07:06:24', '06:55:37', '07:00:32', '07:01:01', '07:00:57', '06:59:45', '06:59:28', '07:02:19', '07:01:02', '07:01:41', '07:03:27', '07:00:39', '07:02:01', '06:59:25', '06:58:44', '07:00:09', '07:00:59', '06:56:54', '06:58:19', '06:58:39', '07:01:45', '06:59:08', '06:56:29', '06:58:19', '06:56:28', '07:00:46', '07:02:46', '07:04:10', '06:59:08', '07:00:53', '06:58:36', '07:00:18']\n",
      "\n",
      "leaving at time: 06:30\n",
      "arriving at time: ['07:14:42', '07:25:34', '07:26:46', '07:22:05', '07:09:50', '07:12:49', '07:22:34', '07:23:52', '07:18:38', '07:19:39', '07:24:22', '07:12:27', '07:17:22', '07:19:34', '07:20:28', '07:18:19', '07:19:03', '07:19:38', '07:17:14', '07:19:08', '07:28:28', '07:17:57', '07:20:24', '07:16:18', '07:14:53', '07:16:14', '07:16:02', '07:11:44', '07:15:29', '07:14:39', '07:14:04', '07:14:14', '07:10:23', '07:14:23', '07:12:09', '07:16:27', '07:17:21', '07:18:44', '07:12:36', '07:15:51', '07:17:37', '07:16:44']\n",
      "\n",
      "leaving at time: 09:00\n",
      "arriving at time: ['09:44:16', '09:48:40', '09:44:14', '09:44:28', '09:42:45', '09:44:56', '09:46:02', '09:53:50', '09:49:46', '09:44:27', '10:01:24', '09:46:16', '09:43:05', '09:46:49', '09:54:47', '09:50:33', '09:45:56', '09:45:00', '09:44:56', '09:48:52', '09:48:42', '09:47:39', '10:14:19', '09:46:59', '09:43:27', '09:44:42', '09:46:47', '09:42:00', '09:46:19', '09:45:23', '09:41:09', '09:48:15', '09:46:50', '09:44:50', '09:44:39', '09:43:46', '09:42:33', '09:45:33', '09:48:50', '09:42:48', '09:44:34', '09:42:48']\n",
      "\n",
      "leaving at time: 06:00\n",
      "arriving at time: ['06:45:52', '06:47:06', '06:46:15', '06:44:40', '06:43:19', '06:43:43', '06:44:45', '06:45:14', '06:43:27', '06:45:12', '06:46:17', '06:42:27', '06:43:43', '06:45:27', '06:43:23', '06:43:49', '06:43:39', '06:44:23', '06:44:37', '06:44:17', '06:43:12', '06:43:02', '06:45:57', '06:42:31', '06:43:44', '06:44:41', '06:44:41', '06:42:50', '06:43:14', '06:42:40', '06:45:49', '06:43:37', '06:43:07', '06:40:57', '06:43:27', '06:45:24', '06:48:15', '06:48:30', '06:46:25', '06:46:49', '06:44:11', '06:44:43']\n",
      "\n",
      "leaving at time: 08:45\n",
      "arriving at time: ['09:28:15', '09:34:03', '09:31:14', '09:31:11', '09:27:54', '09:28:41', '09:29:55', '09:46:01', '09:38:09', '09:30:33', '09:47:29', '09:30:51', '09:28:04', '09:30:41', '09:40:58', '09:34:59', '09:30:23', '09:32:10', '09:31:56', '09:37:34', '09:35:25', '09:32:58', '09:55:35', '09:30:27', '09:28:50', '09:30:48', '09:30:11', '09:26:35', '09:31:02', '09:31:11', '09:26:56', '09:32:27', '09:31:30', '09:30:05', '09:27:04', '09:29:04', '09:29:04', '09:30:35', '09:30:11', '09:27:14', '09:24:29', '09:30:48']\n",
      "\n",
      "leaving at time: 08:00\n",
      "arriving at time: ['08:41:18', '09:08:41', '09:02:07', '08:57:10', '08:46:16', '08:43:54', '08:52:29', '09:10:47', '08:56:31', '08:50:24', '09:11:01', '08:44:17', '08:47:21', '08:51:09', '08:58:51', '08:55:10', '08:52:36', '08:50:00', '08:52:31', '08:58:50', '09:10:16', '08:46:28', '09:01:36', '08:49:04', '08:44:31', '08:46:24', '08:47:44', '08:44:34', '08:45:45', '08:44:05', '08:42:26', '08:45:21', '08:44:43', '08:44:39', '08:43:15', '08:42:29', '08:42:31', '08:44:13', '08:42:47', '08:41:51', '08:42:34', '08:42:40']\n",
      "\n",
      "leaving at time: 07:45\n",
      "arriving at time: ['08:25:32', '08:54:23', '08:50:23', '08:44:59', '08:31:23', '08:28:44', '08:41:03', '09:00:41', '08:56:05', '08:37:51', '08:56:40', '08:25:55', '08:33:48', '08:38:50', '08:46:15', '08:41:30', '08:38:39', '08:38:45', '08:41:26', '08:45:07', '09:00:08', '08:31:14', '08:46:18', '08:35:21', '08:32:41', '08:33:07', '08:31:58', '08:30:47', '08:30:50', '08:30:40', '08:30:25', '08:28:47', '08:31:50', '08:28:36', '08:27:01', '08:28:04', '08:28:12', '08:29:27', '08:28:13', '08:26:16', '08:28:10', '08:27:53']\n",
      "\n",
      "leaving at time: 06:45\n",
      "arriving at time: ['07:29:05', '07:46:39', '07:46:06', '07:42:00', '07:25:38', '07:27:52', '07:38:34', '07:44:16', '07:38:37', '07:35:56', '07:46:27', '07:28:45', '07:32:46', '07:36:50', '07:36:01', '07:35:23', '07:36:34', '07:38:03', '07:34:46', '07:36:11', '07:47:24', '07:33:00', '07:39:07', '07:34:43', '07:31:14', '07:32:44', '07:32:51', '07:27:06', '07:29:58', '07:31:03', '07:29:06', '07:28:12', '07:27:12', '07:29:21', '07:25:59', '07:30:35', '07:34:09', '07:33:08', '07:26:21', '07:30:54', '07:29:52', '07:32:13']\n",
      "\n",
      "leaving at time: 05:45\n",
      "arriving at time: ['06:29:04', '06:29:58', '06:29:56', '06:28:38', '06:31:19', '06:28:31', '06:29:08', '06:27:09', '06:27:59', '06:29:05', '06:30:24', '06:28:32', '06:27:05', '06:30:07', '06:30:36', '06:28:36', '06:28:38', '06:28:16', '06:29:28', '06:29:16', '06:30:18', '06:28:46', '06:29:29', '06:27:15', '06:28:27', '06:29:52', '06:28:55', '06:27:30', '06:26:32', '06:28:46', '06:30:30', '06:32:16', '06:27:46', '06:26:28', '06:27:53', '06:29:25', '06:31:08', '06:32:27', '06:32:02', '06:33:23', '06:30:31', '06:28:01']\n",
      "\n",
      "leaving at time: 08:15\n",
      "arriving at time: ['08:57:04', '09:16:28', '09:15:19', '09:08:36', '09:01:03', '08:57:22', '09:03:43', '09:20:52', '09:12:28', '09:05:24', '09:32:22', '09:00:06', '09:00:24', '09:04:07', '09:12:42', '09:09:17', '09:05:24', '09:04:42', '09:05:44', '09:12:39', '09:20:19', '09:01:13', '09:20:12', '09:00:36', '09:01:17', '09:01:32', '09:02:03', '08:59:46', '09:00:26', '08:59:40', '08:54:47', '08:59:15', '08:57:48', '08:58:59', '08:58:13', '08:58:03', '08:58:46', '08:59:19', '08:56:39', '08:58:37', '08:55:32', '09:00:39']\n",
      "\n",
      "leaving at time: 08:30\n",
      "arriving at time: ['09:12:07', '09:25:31', '09:22:53', '09:16:51', '09:14:47', '09:12:22', '09:18:41', '09:33:42', '09:23:50', '09:19:32', '09:38:25', '09:16:13', '09:15:13', '09:18:11', '09:28:41', '09:22:01', '09:17:20', '09:15:50', '09:18:25', '09:25:23', '09:26:21', '09:15:35', '09:39:55', '09:13:44', '09:14:42', '09:15:12', '09:16:28', '09:11:56', '09:15:56', '09:15:15', '09:11:16', '09:14:20', '09:13:18', '09:13:44', '09:10:53', '09:13:47', '09:11:52', '09:15:07', '09:12:38', '09:11:48', '09:09:36', '09:16:17']\n",
      "\n",
      "leaving at time: 07:30\n",
      "arriving at time: ['08:10:16', '08:39:19', '08:39:10', '08:30:49', '08:16:26', '08:12:16', '08:27:11', '08:47:32', '08:42:14', '08:25:53', '08:39:17', '08:10:52', '08:20:21', '08:25:21', '08:29:22', '08:25:33', '08:23:09', '08:24:57', '08:26:48', '08:29:12', '08:49:25', '08:17:36', '08:32:42', '08:20:53', '08:18:27', '08:18:16', '08:18:36', '08:15:22', '08:15:29', '08:16:39', '08:15:21', '08:15:01', '08:16:25', '08:13:32', '08:16:30', '08:13:16', '08:14:26', '08:14:20', '08:12:47', '08:11:18', '08:14:22', '08:12:21']\n",
      "\n",
      "leaving at time: 05:30\n",
      "arriving at time: ['06:15:24', '06:14:53', '06:12:34', '06:12:24', '06:16:11', '06:14:08', '06:12:15', '06:12:46', '06:12:11', '06:11:19', '06:13:15', '06:14:39', '06:11:02', '06:14:37', '06:14:48', '06:13:26', '06:13:41', '06:11:52', '06:15:15', '06:14:39', '06:13:48', '06:12:22', '06:14:11', '06:14:31', '06:15:05', '06:14:11', '06:13:06', '06:12:59', '06:13:03', '06:12:01', '06:14:45', '06:16:35', '06:11:45', '06:11:33', '06:14:02', '06:14:58', '06:17:31', '06:14:47', '06:17:27', '06:19:09', '06:14:35', '06:13:21']\n",
      "\n"
     ]
    }
   ],
   "source": [
    "# weekday == any day, week == 1, months == 6, year = 2012 - 2013\n",
    "# there a 6 1st weeks * 7days in a week = 42\n",
    "# result = {} with an array of values\n",
    "\n",
    "def estimated_arrival_time():\n",
    "    arrive_dict = {}\n",
    "    for w in range(1, 8): #weekdays 1-7\n",
    "        for y in range (2012, 2013): #year 2012\n",
    "            for m in range(1, 7): #months 1-6\n",
    "                \n",
    "                leaving_time = '05:00'  \n",
    "                for lt in range(17):# 0 to n-1, lets take this to \n",
    "                    arr = calculate_arrivals(w, y, m, leaving_time)\n",
    "                    \n",
    "                    if not leaving_time in arrive_dict:\n",
    "                        arrive_dict[leaving_time] = []\n",
    "                    arrive_dict[leaving_time].append(arr)\n",
    "                    \n",
    "                    leaving_time = get_next_time(leaving_time)\n",
    "    return arrive_dict\n",
    "\n",
    "arrive_dict = estimated_arrival_time()\n",
    "\n",
    "for arr_d in arrive_dict:\n",
    "    print('leaving at time: %s\\narriving at time: %s\\n' %(arr_d, str(arrive_dict[arr_d])))\n",
    "    pass \n",
    "\n",
    "### END ANSWER"
   ]
  },
  {
   "cell_type": "markdown",
   "metadata": {},
   "source": [
    "## EXERCISE 3\n",
    "\n",
    "We now have a considerable amount of data, but it's not very easy to read!  On this amount of data it would be cumbersome to perform any calculations manually.  Luckily, Python is good at automating these things employing libraries containing common descriptive statistics methods. We shall be using the NumPy and SciPy libraries.\n",
    "\n",
    "The data calculated in EXERCISE 2b contains each leaving time, in the first week, of the first six months of a single year.\n",
    "\n",
    "To calculate the optimal leaving time, we will be using linear regression to perform the analysis.\n",
    "\n",
    "## EXERCISE 3a\n",
    "The first step is to determine the mean arrival time for each leaving time for each day in the first week.  \n",
    "\n",
    "Dealing with time data can be difficult, so to make calculations easier the arrival time is converted into the amount of seconds since midnight. To do this the function `get_time_in_seconds(time_str)` is used which performs this calculation with `time_str` being time in the format HH:MM:SS.\n",
    "\n",
    "This will return two `array`s for each leaving time (as a string) with the mean arrival time (in seconds), e.g., `{'07:00': 25200}`. This is achieved using the `mean` function from the numpy library. For this to work the `numpy` library of functions must be imported which will allow use a special `numpy` data structure in arrays.  \n",
    "\n",
    "An array can be created from a list, by running `np.asarray`, as in the example below"
   ]
  },
  {
   "cell_type": "code",
   "execution_count": 26,
   "metadata": {
    "collapsed": false
   },
   "outputs": [
    {
     "name": "stdout",
     "output_type": "stream",
     "text": [
      "[1, 2, 3, 4] <class 'list'>\n",
      "[1 2 3 4] <class 'numpy.ndarray'>\n"
     ]
    },
    {
     "data": {
      "text/plain": [
       "2.5"
      ]
     },
     "execution_count": 26,
     "metadata": {},
     "output_type": "execute_result"
    }
   ],
   "source": [
    "#WE NEED TO WORK WITH ARRAYS TO PERFORM MATHEMATICAL FUNCTIONS \n",
    "#specialist features of numpy and scipy, a list is a one dimensional array\n",
    "\n",
    "# You don't have to write anything here\n",
    "\n",
    "import numpy as np\n",
    "\n",
    "listy = [1, 2, 3, 4]\n",
    "\n",
    "array_obj = np.asarray(listy)\n",
    "\n",
    "print(listy, type(listy))\n",
    "\n",
    "print(array_obj, type(array_obj))\n",
    "\n",
    "np.mean(array_obj)\n"
   ]
  },
  {
   "cell_type": "markdown",
   "metadata": {},
   "source": [
    "## EXERCISE 3b\n",
    "\n",
    "Having calculated the mean values a visualisation of the output can be produced. To do this, we will be using the Python library `pyplot`, which is part of `matplotlib`.  The output visualisation will be a scatterplot which has the leaving time as the predictor variable, and the arrival time as the response variable.  \n",
    "\n",
    "Use the `plt.scatter` function to create a scatterplot to visualise our times.  This function takes as its first two parameters:\n",
    "\n",
    "* A list of values for the X axis - predictor value, arrival time\n",
    "* A list of values for the Y axis - response value, leaving time\n",
    "\n",
    "In other words the arrival times are used to predict an optimal leaving time.\n",
    "\n",
    "Use the values obtained from Exercise 3a to do this."
   ]
  },
  {
   "cell_type": "code",
   "execution_count": 31,
   "metadata": {
    "collapsed": false,
    "scrolled": true
   },
   "outputs": [
    {
     "name": "stdout",
     "output_type": "stream",
     "text": [
      "[ 28226.02380952  21525.35714286  20659.02380952  29203.61904762\n",
      "  25229.38095238  26252.5         35219.85714286  24270.5         34333.57142857\n",
      "  31816.16666667  31005.64285714  27246.69047619  23356.30952381\n",
      "  32670.64285714  33479.47619048  30141.47619048  22438.66666667]\n",
      "[25200 18900 18000 26100 22500 23400 32400 21600 31500 28800 27900 24300\n",
      " 20700 29700 30600 27000 19800]\n"
     ]
    },
    {
     "data": {
      "text/plain": [
       "<matplotlib.collections.PathCollection at 0x7f176d895860>"
      ]
     },
     "execution_count": 31,
     "metadata": {},
     "output_type": "execute_result"
    },
    {
     "data": {
      "image/png": "[encoded data removed]",
      "text/plain": [
       "<matplotlib.figure.Figure at 0x7f176e359cc0>"
      ]
     },
     "metadata": {},
     "output_type": "display_data"
    }
   ],
   "source": [
    "# Do the necessary imports\n",
    "import matplotlib.pyplot as plt\n",
    "%matplotlib inline\n",
    "\n",
    "#leaving time (predictor variable - X axis), arrival time(response variable - Y axis)\n",
    "\n",
    "#arrival times for the first week of the first 6months dictionary is complex\n",
    "#calculate the mean to plot\n",
    "\n",
    "obj_loop = estimated_arrival_time()\n",
    "departure_values_x = []\n",
    "response_mean_y = []\n",
    "\n",
    "for k in obj_loop.keys():\n",
    "    list_new = []\n",
    "    response_mean_y.append(get_time_in_seconds(k))\n",
    "    \n",
    "    for l in obj_loop[k]:\n",
    "        list_new.append(get_time_in_seconds(l))\n",
    "    \n",
    "    mean = np.mean(np.asarray(list_new))\n",
    "    departure_values_x.append(mean)\n",
    "    \n",
    "departure_values_x = np.asarray(departure_values_x)\n",
    "response_mean_y = np.asarray(response_mean_y)\n",
    "\n",
    "print(departure_values_x)\n",
    "print(response_mean_y)\n",
    "\n",
    "#notice the printed values are not in order, but they do correlate\n",
    "\n",
    "#pyplot and inline to plot the results\n",
    "\n",
    "plt.scatter(departure_values_x, response_mean_y)\n",
    "#scatter is a function of plt\n",
    "#these are plotted as arrays\n",
    "\n",
    "### END ANSWER"
   ]
  },
  {
   "cell_type": "markdown",
   "metadata": {},
   "source": [
    "## EXERCISE 3c\n",
    "\n",
    "Having done this, we now need to calculate the regression equation, so we can determine the optimal time for leaving.  The graph may look a bit raw at the moment, but that's okay.  We will fix that soon!\n",
    "\n",
    "First, we still need to find the equation, plot the line on the graph, and solve it for 09:00.\n",
    "\n",
    "To solve the equation, we can use the `stats.linregress(first_list, second_list)` in scipy.  Run this now, placing the output into a variable `fx` with the same parameters as you used for the scatter plot, and look at the output:"
   ]
  },
  {
   "cell_type": "code",
   "execution_count": 33,
   "metadata": {
    "collapsed": false
   },
   "outputs": [
    {
     "name": "stdout",
     "output_type": "stream",
     "text": [
      "slope\t\t 0.975177710149\n",
      "intercept\t -2166.6360703\n"
     ]
    }
   ],
   "source": [
    "#having determined the mean value for arrival and departure times in the previous excercises\n",
    "#now to determine the optimal leaving time\n",
    "#use linear regression\n",
    "\n",
    "from scipy import stats\n",
    "\n",
    "fx = stats.linregress(departure_values_x, response_mean_y)\n",
    "\n",
    "print(\"slope\\t\\t\", fx.slope)\n",
    "print('intercept\\t', fx.intercept)\n",
    "\n",
    "### END ANSWER"
   ]
  },
  {
   "cell_type": "markdown",
   "metadata": {},
   "source": [
    "use https://www.khanacademy.org/math/statistics-probability/describing-relationships-quantitative-data for stats "
   ]
  },
  {
   "cell_type": "markdown",
   "metadata": {},
   "source": [
    "The output of the function is an object with different values.  These can be accessed using the dot syntax, i.e., `m = fx.slope`.  We can use these to plot `y = f(x)`, by evaluating `mx + c` as the second parameter in the `plot` function.  Perform the following steps:\n",
    "\n",
    "* Create a variable `m` from `fx.slope`\n",
    "* Create a variable `c` from `fx.intercept`\n",
    "* Plot this equation onto the graph as `plt.plot(leaving_time, m * x + c, '-')`"
   ]
  },
  {
   "cell_type": "code",
   "execution_count": 35,
   "metadata": {
    "collapsed": false
   },
   "outputs": [
    {
     "data": {
      "text/plain": [
       "[<matplotlib.lines.Line2D at 0x7f1760ea4940>]"
      ]
     },
     "execution_count": 35,
     "metadata": {},
     "output_type": "execute_result"
    },
    {
     "data": {
      "image/png": "[encoded data removed]",
      "text/plain": [
       "<matplotlib.figure.Figure at 0x7f1760ea4908>"
      ]
     },
     "metadata": {},
     "output_type": "display_data"
    }
   ],
   "source": [
    "\n",
    "m = fx.slope\n",
    "c = fx.intercept\n",
    "\n",
    "plt.scatter(departure_values_x, response_mean_y)\n",
    "\n",
    "plt.plot(np.asarray(departure_values_x), m * np.asarray(departure_values_x) + c, '-')\n",
    "\n",
    "\n",
    "\n",
    "### END ANSWER"
   ]
  },
  {
   "cell_type": "markdown",
   "metadata": {},
   "source": [
    "Now we have a scatter plot, a regression equation, and both are displayed on a graph.  We can use the graph to get an idea for when we should leave, but we can also solve the equation, and this is our next step.  We already have an equation, so we can substitute the values in to get the answer.\n",
    "\n",
    "All we need to do is:\n",
    "\n",
    "* Get the value for 09:00 in seconds rather than the more general case used for the plot\n",
    "* Get the answer from the equationn\n",
    "* Convert the answer from seconds to a time"
   ]
  },
  {
   "cell_type": "code",
   "execution_count": 37,
   "metadata": {
    "collapsed": false
   },
   "outputs": [
    {
     "name": "stdout",
     "output_type": "stream",
     "text": [
      "08:10\n"
     ]
    }
   ],
   "source": [
    "# YOUR CODE HERE\n",
    "y = m * get_time_in_seconds('09:00') + c\n",
    "print(get_time_in_str(y))\n",
    "\n",
    "\n",
    "### END ANSWER"
   ]
  },
  {
   "cell_type": "markdown",
   "metadata": {},
   "source": [
    "## EXERCISE 4 (Optional)\n",
    "\n",
    "We have an answer, so we could go home.  However, we need to show this to our manager, so ideally we'll get the graph to look a bit better.  Here are some improvements you could make.  Reading documentation about functions is an important skill, so the instructions here are brief and you are expected to read through the documentation at the links.  If you have trouble, try [StackOverflow](https://stackoverflow.com), or ask one of the demonstrators.\n",
    "\n",
    "* Label the chart and the axes [docs](http://matplotlib.org/users/pyplot_tutorial.html#id3)\n",
    "* Change the range of the axes using `xlim` and `ylim` [docs](http://matplotlib.org/api/pyplot_api.html#matplotlib.pyplot.xlim)\n",
    "* Change the axes from seconds to a datetime string.  For this we use `xticks` and `yticks` functions, which require an array of labels, e.g., `['07:00', '07:15'.....]` [docs](http://matplotlib.org/api/pyplot_api.html#matplotlib.pyplot.xticks)\n",
    "* Increase the size of the plot.  You will need to specify a `plt.figure` before drawing the plot.  This will specify `figsize=(width,height)` as as parameter\n",
    "* Look at other examples of customisations you can use, for example [here](http://chrisalbon.com/python/data_visualization/matplotlib_simple_scatterplot/)\n",
    "\n",
    "### Another Solution?\n",
    "\n",
    "There are many ways you could try and solve this problem.  We chose linear regression as an example.  If you've finished this, try and think of another way to solve it, and implement that instead!"
   ]
  },
  {
   "cell_type": "code",
   "execution_count": null,
   "metadata": {
    "collapsed": true
   },
   "outputs": [],
   "source": []
  }
 ],
 "metadata": {
  "kernelspec": {
   "display_name": "Python 3",
   "language": "python",
   "name": "python3"
  },
  "language_info": {
   "codemirror_mode": {
    "name": "ipython",
    "version": 3
   },
   "file_extension": ".py",
   "mimetype": "text/x-python",
   "name": "python",
   "nbconvert_exporter": "python",
   "pygments_lexer": "ipython3",
   "version": "3.5.2"
  }
 },
 "nbformat": 4,
 "nbformat_minor": 0
}
