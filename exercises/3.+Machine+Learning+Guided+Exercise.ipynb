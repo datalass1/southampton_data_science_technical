{
 "cells": [
  {
   "cell_type": "code",
   "execution_count": 1,
   "metadata": {
    "collapsed": false
   },
   "outputs": [
    {
     "data": {
      "text/html": [
       "\n",
       "    <div class=\"bk-root\">\n",
       "        <a href=\"http://bokeh.pydata.org\" target=\"_blank\" class=\"bk-logo bk-logo-small bk-logo-notebook\"></a>\n",
       "        <span id=\"ce36bac3-df3e-4ab8-b0cd-4a2c43d6a68a\">Loading BokehJS ...</span>\n",
       "    </div>"
      ]
     },
     "metadata": {},
     "output_type": "display_data"
    },
    {
     "data": {
      "application/javascript": [
       "\n",
       "(function(global) {\n",
       "  function now() {\n",
       "    return new Date();\n",
       "  }\n",
       "\n",
       "  var force = true;\n",
       "\n",
       "  if (typeof (window._bokeh_onload_callbacks) === \"undefined\" || force === true) {\n",
       "    window._bokeh_onload_callbacks = [];\n",
       "    window._bokeh_is_loading = undefined;\n",
       "  }\n",
       "\n",
       "\n",
       "  \n",
       "  if (typeof (window._bokeh_timeout) === \"undefined\" || force === true) {\n",
       "    window._bokeh_timeout = Date.now() + 5000;\n",
       "    window._bokeh_failed_load = false;\n",
       "  }\n",
       "\n",
       "  var NB_LOAD_WARNING = {'data': {'text/html':\n",
       "     \"<div style='background-color: #fdd'>\\n\"+\n",
       "     \"<p>\\n\"+\n",
       "     \"BokehJS does not appear to have successfully loaded. If loading BokehJS from CDN, this \\n\"+\n",
       "     \"may be due to a slow or bad network connection. Possible fixes:\\n\"+\n",
       "     \"</p>\\n\"+\n",
       "     \"<ul>\\n\"+\n",
       "     \"<li>re-rerun `output_notebook()` to attempt to load from CDN again, or</li>\\n\"+\n",
       "     \"<li>use INLINE resources instead, as so:</li>\\n\"+\n",
       "     \"</ul>\\n\"+\n",
       "     \"<code>\\n\"+\n",
       "     \"from bokeh.resources import INLINE\\n\"+\n",
       "     \"output_notebook(resources=INLINE)\\n\"+\n",
       "     \"</code>\\n\"+\n",
       "     \"</div>\"}};\n",
       "\n",
       "  function display_loaded() {\n",
       "    if (window.Bokeh !== undefined) {\n",
       "      document.getElementById(\"ce36bac3-df3e-4ab8-b0cd-4a2c43d6a68a\").textContent = \"BokehJS successfully loaded.\";\n",
       "    } else if (Date.now() < window._bokeh_timeout) {\n",
       "      setTimeout(display_loaded, 100)\n",
       "    }\n",
       "  }\n",
       "\n",
       "  function run_callbacks() {\n",
       "    window._bokeh_onload_callbacks.forEach(function(callback) { callback() });\n",
       "    delete window._bokeh_onload_callbacks\n",
       "    console.info(\"Bokeh: all callbacks have finished\");\n",
       "  }\n",
       "\n",
       "  function load_libs(js_urls, callback) {\n",
       "    window._bokeh_onload_callbacks.push(callback);\n",
       "    if (window._bokeh_is_loading > 0) {\n",
       "      console.log(\"Bokeh: BokehJS is being loaded, scheduling callback at\", now());\n",
       "      return null;\n",
       "    }\n",
       "    if (js_urls == null || js_urls.length === 0) {\n",
       "      run_callbacks();\n",
       "      return null;\n",
       "    }\n",
       "    console.log(\"Bokeh: BokehJS not loaded, scheduling load and callback at\", now());\n",
       "    window._bokeh_is_loading = js_urls.length;\n",
       "    for (var i = 0; i < js_urls.length; i++) {\n",
       "      var url = js_urls[i];\n",
       "      var s = document.createElement('script');\n",
       "      s.src = url;\n",
       "      s.async = false;\n",
       "      s.onreadystatechange = s.onload = function() {\n",
       "        window._bokeh_is_loading--;\n",
       "        if (window._bokeh_is_loading === 0) {\n",
       "          console.log(\"Bokeh: all BokehJS libraries loaded\");\n",
       "          run_callbacks()\n",
       "        }\n",
       "      };\n",
       "      s.onerror = function() {\n",
       "        console.warn(\"failed to load library \" + url);\n",
       "      };\n",
       "      console.log(\"Bokeh: injecting script tag for BokehJS library: \", url);\n",
       "      document.getElementsByTagName(\"head\")[0].appendChild(s);\n",
       "    }\n",
       "  };var element = document.getElementById(\"ce36bac3-df3e-4ab8-b0cd-4a2c43d6a68a\");\n",
       "  if (element == null) {\n",
       "    console.log(\"Bokeh: ERROR: autoload.js configured with elementid 'ce36bac3-df3e-4ab8-b0cd-4a2c43d6a68a' but no matching script tag was found. \")\n",
       "    return false;\n",
       "  }\n",
       "\n",
       "  var js_urls = [\"https://cdn.pydata.org/bokeh/release/bokeh-0.12.4.min.js\", \"https://cdn.pydata.org/bokeh/release/bokeh-widgets-0.12.4.min.js\"];\n",
       "\n",
       "  var inline_js = [\n",
       "    function(Bokeh) {\n",
       "      Bokeh.set_log_level(\"info\");\n",
       "    },\n",
       "    \n",
       "    function(Bokeh) {\n",
       "      \n",
       "      document.getElementById(\"ce36bac3-df3e-4ab8-b0cd-4a2c43d6a68a\").textContent = \"BokehJS is loading...\";\n",
       "    },\n",
       "    function(Bokeh) {\n",
       "      console.log(\"Bokeh: injecting CSS: https://cdn.pydata.org/bokeh/release/bokeh-0.12.4.min.css\");\n",
       "      Bokeh.embed.inject_css(\"https://cdn.pydata.org/bokeh/release/bokeh-0.12.4.min.css\");\n",
       "      console.log(\"Bokeh: injecting CSS: https://cdn.pydata.org/bokeh/release/bokeh-widgets-0.12.4.min.css\");\n",
       "      Bokeh.embed.inject_css(\"https://cdn.pydata.org/bokeh/release/bokeh-widgets-0.12.4.min.css\");\n",
       "    }\n",
       "  ];\n",
       "\n",
       "  function run_inline_js() {\n",
       "    \n",
       "    if ((window.Bokeh !== undefined) || (force === true)) {\n",
       "      for (var i = 0; i < inline_js.length; i++) {\n",
       "        inline_js[i](window.Bokeh);\n",
       "      }if (force === true) {\n",
       "        display_loaded();\n",
       "      }} else if (Date.now() < window._bokeh_timeout) {\n",
       "      setTimeout(run_inline_js, 100);\n",
       "    } else if (!window._bokeh_failed_load) {\n",
       "      console.log(\"Bokeh: BokehJS failed to load within specified timeout.\");\n",
       "      window._bokeh_failed_load = true;\n",
       "    } else if (force !== true) {\n",
       "      var cell = $(document.getElementById(\"ce36bac3-df3e-4ab8-b0cd-4a2c43d6a68a\")).parents('.cell').data().cell;\n",
       "      cell.output_area.append_execute_result(NB_LOAD_WARNING)\n",
       "    }\n",
       "\n",
       "  }\n",
       "\n",
       "  if (window._bokeh_is_loading === 0) {\n",
       "    console.log(\"Bokeh: BokehJS loaded, going straight to plotting\");\n",
       "    run_inline_js();\n",
       "  } else {\n",
       "    load_libs(js_urls, function() {\n",
       "      console.log(\"Bokeh: BokehJS plotting callback run at\", now());\n",
       "      run_inline_js();\n",
       "    });\n",
       "  }\n",
       "}(this));"
      ]
     },
     "metadata": {},
     "output_type": "display_data"
    }
   ],
   "source": [
    "import numpy as np\n",
    "import pandas as pd\n",
    "from bokeh.charts import Scatter\n",
    "from bokeh.plotting import Figure\n",
    "from bokeh.models import Span\n",
    "from bokeh.io import output_notebook, show\n",
    "output_notebook()\n",
    "\n",
    "from sklearn.model_selection import train_test_split\n",
    "from sklearn.linear_model import LinearRegression\n",
    "from sklearn.metrics import mean_squared_error\n"
   ]
  },
  {
   "cell_type": "markdown",
   "metadata": {},
   "source": [
    "# Linear Regression\n",
    "\n",
    "As discussed in the videos, one part of both statistics and machine learning is linear regression.  There are several Python libraries for this as well.  The one we'll be using in this course is the **scikit-learn [LinearRegression class](http://scikit-learn.org/stable/modules/generated/sklearn.linear_model.LinearRegression.html#sklearn.linear_model.LinearRegression)**, which uses the **ordinary least squares** method to calculate predictions.\n",
    "\n",
    "We will perform linear regression on one of the sample data sets shipped with Bokeh: the \"Iris\" dataset, which consists of data about flowers.  First, we import and make a copy of the `flowers` dataset, and display the fields associated with it to get an idea of the data:"
   ]
  },
  {
   "cell_type": "code",
   "execution_count": 2,
   "metadata": {
    "collapsed": false
   },
   "outputs": [
    {
     "data": {
      "text/html": [
       "<div>\n",
       "<table border=\"1\" class=\"dataframe\">\n",
       "  <thead>\n",
       "    <tr style=\"text-align: right;\">\n",
       "      <th></th>\n",
       "      <th>sepal_length</th>\n",
       "      <th>sepal_width</th>\n",
       "      <th>petal_length</th>\n",
       "      <th>petal_width</th>\n",
       "      <th>species</th>\n",
       "    </tr>\n",
       "  </thead>\n",
       "  <tbody>\n",
       "    <tr>\n",
       "      <th>0</th>\n",
       "      <td>5.1</td>\n",
       "      <td>3.5</td>\n",
       "      <td>1.4</td>\n",
       "      <td>0.2</td>\n",
       "      <td>setosa</td>\n",
       "    </tr>\n",
       "    <tr>\n",
       "      <th>1</th>\n",
       "      <td>4.9</td>\n",
       "      <td>3.0</td>\n",
       "      <td>1.4</td>\n",
       "      <td>0.2</td>\n",
       "      <td>setosa</td>\n",
       "    </tr>\n",
       "    <tr>\n",
       "      <th>2</th>\n",
       "      <td>4.7</td>\n",
       "      <td>3.2</td>\n",
       "      <td>1.3</td>\n",
       "      <td>0.2</td>\n",
       "      <td>setosa</td>\n",
       "    </tr>\n",
       "    <tr>\n",
       "      <th>3</th>\n",
       "      <td>4.6</td>\n",
       "      <td>3.1</td>\n",
       "      <td>1.5</td>\n",
       "      <td>0.2</td>\n",
       "      <td>setosa</td>\n",
       "    </tr>\n",
       "    <tr>\n",
       "      <th>4</th>\n",
       "      <td>5.0</td>\n",
       "      <td>3.6</td>\n",
       "      <td>1.4</td>\n",
       "      <td>0.2</td>\n",
       "      <td>setosa</td>\n",
       "    </tr>\n",
       "  </tbody>\n",
       "</table>\n",
       "</div>"
      ],
      "text/plain": [
       "   sepal_length  sepal_width  petal_length  petal_width species\n",
       "0           5.1          3.5           1.4          0.2  setosa\n",
       "1           4.9          3.0           1.4          0.2  setosa\n",
       "2           4.7          3.2           1.3          0.2  setosa\n",
       "3           4.6          3.1           1.5          0.2  setosa\n",
       "4           5.0          3.6           1.4          0.2  setosa"
      ]
     },
     "execution_count": 2,
     "metadata": {},
     "output_type": "execute_result"
    }
   ],
   "source": [
    "# Creating a DataFrame using the sample data provided by Bokeh\n",
    "from bokeh.sampledata.iris import flowers\n",
    "flowers_data = flowers\n",
    "\n",
    "# Displaying first few rows of data\n",
    "flowers_data.head()"
   ]
  },
  {
   "cell_type": "markdown",
   "metadata": {},
   "source": [
    "We are going to attempt to see **what features are best used** to calculate the [sepal](https://en.wikipedia.org/wiki/Sepal).  We start by creating an instance of the `LinearRegression` class"
   ]
  },
  {
   "cell_type": "code",
   "execution_count": 3,
   "metadata": {
    "collapsed": true
   },
   "outputs": [],
   "source": [
    "# lm is an instance of the LinearRegression class\n",
    "lm = LinearRegression()"
   ]
  },
  {
   "cell_type": "markdown",
   "metadata": {},
   "source": [
    "## Fitting the Model\n",
    "\n",
    "We are going to begin by creating a model using the petal length (as the **predictor variable**) to calculate the sepal length (the **response** variable).\n",
    "\n",
    "We need some X and y values, which will be used to call the **`fit`** function.  Create a variable X for predictor variables, and a variable y for the associated response variable.  These will be data frames taken from the `flowers_data` variable."
   ]
  },
  {
   "cell_type": "code",
   "execution_count": 4,
   "metadata": {
    "collapsed": false
   },
   "outputs": [
    {
     "data": {
      "text/html": [
       "<div>\n",
       "<table border=\"1\" class=\"dataframe\">\n",
       "  <thead>\n",
       "    <tr style=\"text-align: right;\">\n",
       "      <th></th>\n",
       "      <th>petal_length</th>\n",
       "    </tr>\n",
       "  </thead>\n",
       "  <tbody>\n",
       "    <tr>\n",
       "      <th>0</th>\n",
       "      <td>1.4</td>\n",
       "    </tr>\n",
       "    <tr>\n",
       "      <th>1</th>\n",
       "      <td>1.4</td>\n",
       "    </tr>\n",
       "    <tr>\n",
       "      <th>2</th>\n",
       "      <td>1.3</td>\n",
       "    </tr>\n",
       "    <tr>\n",
       "      <th>3</th>\n",
       "      <td>1.5</td>\n",
       "    </tr>\n",
       "    <tr>\n",
       "      <th>4</th>\n",
       "      <td>1.4</td>\n",
       "    </tr>\n",
       "    <tr>\n",
       "      <th>5</th>\n",
       "      <td>1.7</td>\n",
       "    </tr>\n",
       "    <tr>\n",
       "      <th>6</th>\n",
       "      <td>1.4</td>\n",
       "    </tr>\n",
       "    <tr>\n",
       "      <th>7</th>\n",
       "      <td>1.5</td>\n",
       "    </tr>\n",
       "    <tr>\n",
       "      <th>8</th>\n",
       "      <td>1.4</td>\n",
       "    </tr>\n",
       "    <tr>\n",
       "      <th>9</th>\n",
       "      <td>1.5</td>\n",
       "    </tr>\n",
       "    <tr>\n",
       "      <th>10</th>\n",
       "      <td>1.5</td>\n",
       "    </tr>\n",
       "    <tr>\n",
       "      <th>11</th>\n",
       "      <td>1.6</td>\n",
       "    </tr>\n",
       "    <tr>\n",
       "      <th>12</th>\n",
       "      <td>1.4</td>\n",
       "    </tr>\n",
       "    <tr>\n",
       "      <th>13</th>\n",
       "      <td>1.1</td>\n",
       "    </tr>\n",
       "    <tr>\n",
       "      <th>14</th>\n",
       "      <td>1.2</td>\n",
       "    </tr>\n",
       "    <tr>\n",
       "      <th>15</th>\n",
       "      <td>1.5</td>\n",
       "    </tr>\n",
       "    <tr>\n",
       "      <th>16</th>\n",
       "      <td>1.3</td>\n",
       "    </tr>\n",
       "    <tr>\n",
       "      <th>17</th>\n",
       "      <td>1.4</td>\n",
       "    </tr>\n",
       "    <tr>\n",
       "      <th>18</th>\n",
       "      <td>1.7</td>\n",
       "    </tr>\n",
       "    <tr>\n",
       "      <th>19</th>\n",
       "      <td>1.5</td>\n",
       "    </tr>\n",
       "    <tr>\n",
       "      <th>20</th>\n",
       "      <td>1.7</td>\n",
       "    </tr>\n",
       "    <tr>\n",
       "      <th>21</th>\n",
       "      <td>1.5</td>\n",
       "    </tr>\n",
       "    <tr>\n",
       "      <th>22</th>\n",
       "      <td>1.0</td>\n",
       "    </tr>\n",
       "    <tr>\n",
       "      <th>23</th>\n",
       "      <td>1.7</td>\n",
       "    </tr>\n",
       "    <tr>\n",
       "      <th>24</th>\n",
       "      <td>1.9</td>\n",
       "    </tr>\n",
       "    <tr>\n",
       "      <th>25</th>\n",
       "      <td>1.6</td>\n",
       "    </tr>\n",
       "    <tr>\n",
       "      <th>26</th>\n",
       "      <td>1.6</td>\n",
       "    </tr>\n",
       "    <tr>\n",
       "      <th>27</th>\n",
       "      <td>1.5</td>\n",
       "    </tr>\n",
       "    <tr>\n",
       "      <th>28</th>\n",
       "      <td>1.4</td>\n",
       "    </tr>\n",
       "    <tr>\n",
       "      <th>29</th>\n",
       "      <td>1.6</td>\n",
       "    </tr>\n",
       "    <tr>\n",
       "      <th>...</th>\n",
       "      <td>...</td>\n",
       "    </tr>\n",
       "    <tr>\n",
       "      <th>120</th>\n",
       "      <td>5.7</td>\n",
       "    </tr>\n",
       "    <tr>\n",
       "      <th>121</th>\n",
       "      <td>4.9</td>\n",
       "    </tr>\n",
       "    <tr>\n",
       "      <th>122</th>\n",
       "      <td>6.7</td>\n",
       "    </tr>\n",
       "    <tr>\n",
       "      <th>123</th>\n",
       "      <td>4.9</td>\n",
       "    </tr>\n",
       "    <tr>\n",
       "      <th>124</th>\n",
       "      <td>5.7</td>\n",
       "    </tr>\n",
       "    <tr>\n",
       "      <th>125</th>\n",
       "      <td>6.0</td>\n",
       "    </tr>\n",
       "    <tr>\n",
       "      <th>126</th>\n",
       "      <td>4.8</td>\n",
       "    </tr>\n",
       "    <tr>\n",
       "      <th>127</th>\n",
       "      <td>4.9</td>\n",
       "    </tr>\n",
       "    <tr>\n",
       "      <th>128</th>\n",
       "      <td>5.6</td>\n",
       "    </tr>\n",
       "    <tr>\n",
       "      <th>129</th>\n",
       "      <td>5.8</td>\n",
       "    </tr>\n",
       "    <tr>\n",
       "      <th>130</th>\n",
       "      <td>6.1</td>\n",
       "    </tr>\n",
       "    <tr>\n",
       "      <th>131</th>\n",
       "      <td>6.4</td>\n",
       "    </tr>\n",
       "    <tr>\n",
       "      <th>132</th>\n",
       "      <td>5.6</td>\n",
       "    </tr>\n",
       "    <tr>\n",
       "      <th>133</th>\n",
       "      <td>5.1</td>\n",
       "    </tr>\n",
       "    <tr>\n",
       "      <th>134</th>\n",
       "      <td>5.6</td>\n",
       "    </tr>\n",
       "    <tr>\n",
       "      <th>135</th>\n",
       "      <td>6.1</td>\n",
       "    </tr>\n",
       "    <tr>\n",
       "      <th>136</th>\n",
       "      <td>5.6</td>\n",
       "    </tr>\n",
       "    <tr>\n",
       "      <th>137</th>\n",
       "      <td>5.5</td>\n",
       "    </tr>\n",
       "    <tr>\n",
       "      <th>138</th>\n",
       "      <td>4.8</td>\n",
       "    </tr>\n",
       "    <tr>\n",
       "      <th>139</th>\n",
       "      <td>5.4</td>\n",
       "    </tr>\n",
       "    <tr>\n",
       "      <th>140</th>\n",
       "      <td>5.6</td>\n",
       "    </tr>\n",
       "    <tr>\n",
       "      <th>141</th>\n",
       "      <td>5.1</td>\n",
       "    </tr>\n",
       "    <tr>\n",
       "      <th>142</th>\n",
       "      <td>5.1</td>\n",
       "    </tr>\n",
       "    <tr>\n",
       "      <th>143</th>\n",
       "      <td>5.9</td>\n",
       "    </tr>\n",
       "    <tr>\n",
       "      <th>144</th>\n",
       "      <td>5.7</td>\n",
       "    </tr>\n",
       "    <tr>\n",
       "      <th>145</th>\n",
       "      <td>5.2</td>\n",
       "    </tr>\n",
       "    <tr>\n",
       "      <th>146</th>\n",
       "      <td>5.0</td>\n",
       "    </tr>\n",
       "    <tr>\n",
       "      <th>147</th>\n",
       "      <td>5.2</td>\n",
       "    </tr>\n",
       "    <tr>\n",
       "      <th>148</th>\n",
       "      <td>5.4</td>\n",
       "    </tr>\n",
       "    <tr>\n",
       "      <th>149</th>\n",
       "      <td>5.1</td>\n",
       "    </tr>\n",
       "  </tbody>\n",
       "</table>\n",
       "<p>150 rows × 1 columns</p>\n",
       "</div>"
      ],
      "text/plain": [
       "     petal_length\n",
       "0             1.4\n",
       "1             1.4\n",
       "2             1.3\n",
       "3             1.5\n",
       "4             1.4\n",
       "5             1.7\n",
       "6             1.4\n",
       "7             1.5\n",
       "8             1.4\n",
       "9             1.5\n",
       "10            1.5\n",
       "11            1.6\n",
       "12            1.4\n",
       "13            1.1\n",
       "14            1.2\n",
       "15            1.5\n",
       "16            1.3\n",
       "17            1.4\n",
       "18            1.7\n",
       "19            1.5\n",
       "20            1.7\n",
       "21            1.5\n",
       "22            1.0\n",
       "23            1.7\n",
       "24            1.9\n",
       "25            1.6\n",
       "26            1.6\n",
       "27            1.5\n",
       "28            1.4\n",
       "29            1.6\n",
       "..            ...\n",
       "120           5.7\n",
       "121           4.9\n",
       "122           6.7\n",
       "123           4.9\n",
       "124           5.7\n",
       "125           6.0\n",
       "126           4.8\n",
       "127           4.9\n",
       "128           5.6\n",
       "129           5.8\n",
       "130           6.1\n",
       "131           6.4\n",
       "132           5.6\n",
       "133           5.1\n",
       "134           5.6\n",
       "135           6.1\n",
       "136           5.6\n",
       "137           5.5\n",
       "138           4.8\n",
       "139           5.4\n",
       "140           5.6\n",
       "141           5.1\n",
       "142           5.1\n",
       "143           5.9\n",
       "144           5.7\n",
       "145           5.2\n",
       "146           5.0\n",
       "147           5.2\n",
       "148           5.4\n",
       "149           5.1\n",
       "\n",
       "[150 rows x 1 columns]"
      ]
     },
     "execution_count": 4,
     "metadata": {},
     "output_type": "execute_result"
    }
   ],
   "source": [
    "X = flowers_data[['petal_length']]\n",
    "y = flowers_data['sepal_length']\n",
    "X\n"
   ]
  },
  {
   "cell_type": "markdown",
   "metadata": {},
   "source": [
    "We now use the Bokeh `Figure` class to illustrate the distribution of this predictor:\n",
    "\n",
    "Follow this link to find out more about [Bokeh.plotting](http://bokeh.pydata.org/en/0.11.0/docs/reference/plotting.html)."
   ]
  },
  {
   "cell_type": "code",
   "execution_count": 5,
   "metadata": {
    "collapsed": false
   },
   "outputs": [
    {
     "data": {
      "text/html": [
       "\n",
       "\n",
       "    <div class=\"bk-root\">\n",
       "        <div class=\"bk-plotdiv\" id=\"3f4af06b-84d2-4e98-be0b-89bc02a95762\"></div>\n",
       "    </div>\n",
       "<script type=\"text/javascript\">\n",
       "  \n",
       "  (function(global) {\n",
       "    function now() {\n",
       "      return new Date();\n",
       "    }\n",
       "  \n",
       "    var force = false;\n",
       "  \n",
       "    if (typeof (window._bokeh_onload_callbacks) === \"undefined\" || force === true) {\n",
       "      window._bokeh_onload_callbacks = [];\n",
       "      window._bokeh_is_loading = undefined;\n",
       "    }\n",
       "  \n",
       "  \n",
       "    \n",
       "    if (typeof (window._bokeh_timeout) === \"undefined\" || force === true) {\n",
       "      window._bokeh_timeout = Date.now() + 0;\n",
       "      window._bokeh_failed_load = false;\n",
       "    }\n",
       "  \n",
       "    var NB_LOAD_WARNING = {'data': {'text/html':\n",
       "       \"<div style='background-color: #fdd'>\\n\"+\n",
       "       \"<p>\\n\"+\n",
       "       \"BokehJS does not appear to have successfully loaded. If loading BokehJS from CDN, this \\n\"+\n",
       "       \"may be due to a slow or bad network connection. Possible fixes:\\n\"+\n",
       "       \"</p>\\n\"+\n",
       "       \"<ul>\\n\"+\n",
       "       \"<li>re-rerun `output_notebook()` to attempt to load from CDN again, or</li>\\n\"+\n",
       "       \"<li>use INLINE resources instead, as so:</li>\\n\"+\n",
       "       \"</ul>\\n\"+\n",
       "       \"<code>\\n\"+\n",
       "       \"from bokeh.resources import INLINE\\n\"+\n",
       "       \"output_notebook(resources=INLINE)\\n\"+\n",
       "       \"</code>\\n\"+\n",
       "       \"</div>\"}};\n",
       "  \n",
       "    function display_loaded() {\n",
       "      if (window.Bokeh !== undefined) {\n",
       "        document.getElementById(\"3f4af06b-84d2-4e98-be0b-89bc02a95762\").textContent = \"BokehJS successfully loaded.\";\n",
       "      } else if (Date.now() < window._bokeh_timeout) {\n",
       "        setTimeout(display_loaded, 100)\n",
       "      }\n",
       "    }\n",
       "  \n",
       "    function run_callbacks() {\n",
       "      window._bokeh_onload_callbacks.forEach(function(callback) { callback() });\n",
       "      delete window._bokeh_onload_callbacks\n",
       "      console.info(\"Bokeh: all callbacks have finished\");\n",
       "    }\n",
       "  \n",
       "    function load_libs(js_urls, callback) {\n",
       "      window._bokeh_onload_callbacks.push(callback);\n",
       "      if (window._bokeh_is_loading > 0) {\n",
       "        console.log(\"Bokeh: BokehJS is being loaded, scheduling callback at\", now());\n",
       "        return null;\n",
       "      }\n",
       "      if (js_urls == null || js_urls.length === 0) {\n",
       "        run_callbacks();\n",
       "        return null;\n",
       "      }\n",
       "      console.log(\"Bokeh: BokehJS not loaded, scheduling load and callback at\", now());\n",
       "      window._bokeh_is_loading = js_urls.length;\n",
       "      for (var i = 0; i < js_urls.length; i++) {\n",
       "        var url = js_urls[i];\n",
       "        var s = document.createElement('script');\n",
       "        s.src = url;\n",
       "        s.async = false;\n",
       "        s.onreadystatechange = s.onload = function() {\n",
       "          window._bokeh_is_loading--;\n",
       "          if (window._bokeh_is_loading === 0) {\n",
       "            console.log(\"Bokeh: all BokehJS libraries loaded\");\n",
       "            run_callbacks()\n",
       "          }\n",
       "        };\n",
       "        s.onerror = function() {\n",
       "          console.warn(\"failed to load library \" + url);\n",
       "        };\n",
       "        console.log(\"Bokeh: injecting script tag for BokehJS library: \", url);\n",
       "        document.getElementsByTagName(\"head\")[0].appendChild(s);\n",
       "      }\n",
       "    };var element = document.getElementById(\"3f4af06b-84d2-4e98-be0b-89bc02a95762\");\n",
       "    if (element == null) {\n",
       "      console.log(\"Bokeh: ERROR: autoload.js configured with elementid '3f4af06b-84d2-4e98-be0b-89bc02a95762' but no matching script tag was found. \")\n",
       "      return false;\n",
       "    }\n",
       "  \n",
       "    var js_urls = [];\n",
       "  \n",
       "    var inline_js = [\n",
       "      function(Bokeh) {\n",
       "        (function() {\n",
       "          var fn = function() {\n",
       "            var docs_json = {\"5456440c-3237-4b8d-8b1a-2281d4b468a5\":{\"roots\":{\"references\":[{\"attributes\":{\"plot\":{\"id\":\"b37c6a28-4290-480c-b77c-02ff28023f1f\",\"subtype\":\"Figure\",\"type\":\"Plot\"}},\"id\":\"09c833d9-af07-4ebf-9006-e959e125e14f\",\"type\":\"WheelZoomTool\"},{\"attributes\":{\"plot\":{\"id\":\"b37c6a28-4290-480c-b77c-02ff28023f1f\",\"subtype\":\"Figure\",\"type\":\"Plot\"}},\"id\":\"4bf3420e-b552-4844-af67-d0b4421d7aaa\",\"type\":\"HelpTool\"},{\"attributes\":{\"formatter\":{\"id\":\"2af83819-20e1-4902-b043-9ed71bc85474\",\"type\":\"BasicTickFormatter\"},\"plot\":{\"id\":\"b37c6a28-4290-480c-b77c-02ff28023f1f\",\"subtype\":\"Figure\",\"type\":\"Plot\"},\"ticker\":{\"id\":\"a82cf553-b175-41bd-9487-34b9a881a983\",\"type\":\"BasicTicker\"}},\"id\":\"535be439-0d21-4c4a-99b1-6d31eca8d690\",\"type\":\"LinearAxis\"},{\"attributes\":{\"plot\":{\"id\":\"b37c6a28-4290-480c-b77c-02ff28023f1f\",\"subtype\":\"Figure\",\"type\":\"Plot\"},\"ticker\":{\"id\":\"a82cf553-b175-41bd-9487-34b9a881a983\",\"type\":\"BasicTicker\"}},\"id\":\"789e00f5-269e-414b-82e1-fb9766e9f300\",\"type\":\"Grid\"},{\"attributes\":{\"overlay\":{\"id\":\"d880903e-9127-4ca4-84db-80d0ce17bd1a\",\"type\":\"BoxAnnotation\"},\"plot\":{\"id\":\"b37c6a28-4290-480c-b77c-02ff28023f1f\",\"subtype\":\"Figure\",\"type\":\"Plot\"}},\"id\":\"7f7b1304-5af5-4d26-ab7e-02a5d10733ad\",\"type\":\"BoxZoomTool\"},{\"attributes\":{\"dimension\":1,\"plot\":{\"id\":\"b37c6a28-4290-480c-b77c-02ff28023f1f\",\"subtype\":\"Figure\",\"type\":\"Plot\"},\"ticker\":{\"id\":\"ee0623ae-2537-44c9-a738-694ae80c51b1\",\"type\":\"BasicTicker\"}},\"id\":\"c3f914f1-7492-4640-8c41-da5876d88490\",\"type\":\"Grid\"},{\"attributes\":{\"fill_color\":{\"value\":\"#1f77b4\"},\"line_color\":{\"value\":\"#1f77b4\"},\"x\":{\"field\":\"x\"},\"y\":{\"field\":\"y\"}},\"id\":\"dfa47c85-e319-4c2a-b41e-64ed491cfb98\",\"type\":\"Circle\"},{\"attributes\":{\"plot\":null,\"text\":\"\"},\"id\":\"33ca14eb-6c52-44ec-ab7d-c89c1b5d0e78\",\"type\":\"Title\"},{\"attributes\":{\"plot\":{\"id\":\"b37c6a28-4290-480c-b77c-02ff28023f1f\",\"subtype\":\"Figure\",\"type\":\"Plot\"}},\"id\":\"b7276faf-43b6-406a-ae03-542fc48386cd\",\"type\":\"ResetTool\"},{\"attributes\":{\"callback\":null},\"id\":\"4e0a6a4c-ca38-454a-87dc-9cac418531a3\",\"type\":\"DataRange1d\"},{\"attributes\":{\"active_drag\":\"auto\",\"active_scroll\":\"auto\",\"active_tap\":\"auto\",\"tools\":[{\"id\":\"07218a23-c81f-4033-a8bf-53702e3a6fee\",\"type\":\"PanTool\"},{\"id\":\"09c833d9-af07-4ebf-9006-e959e125e14f\",\"type\":\"WheelZoomTool\"},{\"id\":\"7f7b1304-5af5-4d26-ab7e-02a5d10733ad\",\"type\":\"BoxZoomTool\"},{\"id\":\"f8c85d34-5d5a-4a16-a007-43bf925d0a35\",\"type\":\"SaveTool\"},{\"id\":\"b7276faf-43b6-406a-ae03-542fc48386cd\",\"type\":\"ResetTool\"},{\"id\":\"4bf3420e-b552-4844-af67-d0b4421d7aaa\",\"type\":\"HelpTool\"}]},\"id\":\"9eea85f0-bb4a-4d55-aeb2-bf5dc7f025e7\",\"type\":\"Toolbar\"},{\"attributes\":{\"data_source\":{\"id\":\"7f053ad5-00d9-4a40-ba53-679f4cfc7a75\",\"type\":\"ColumnDataSource\"},\"glyph\":{\"id\":\"dfa47c85-e319-4c2a-b41e-64ed491cfb98\",\"type\":\"Circle\"},\"hover_glyph\":null,\"nonselection_glyph\":{\"id\":\"43fa85d0-1571-4204-bd45-062995de709a\",\"type\":\"Circle\"},\"selection_glyph\":null},\"id\":\"3c53e0bc-2102-406e-a9b8-dc2b875f1bf0\",\"type\":\"GlyphRenderer\"},{\"attributes\":{},\"id\":\"a82cf553-b175-41bd-9487-34b9a881a983\",\"type\":\"BasicTicker\"},{\"attributes\":{},\"id\":\"2af83819-20e1-4902-b043-9ed71bc85474\",\"type\":\"BasicTickFormatter\"},{\"attributes\":{\"formatter\":{\"id\":\"7e731344-61ee-45aa-94c1-76e9331755bb\",\"type\":\"BasicTickFormatter\"},\"plot\":{\"id\":\"b37c6a28-4290-480c-b77c-02ff28023f1f\",\"subtype\":\"Figure\",\"type\":\"Plot\"},\"ticker\":{\"id\":\"ee0623ae-2537-44c9-a738-694ae80c51b1\",\"type\":\"BasicTicker\"}},\"id\":\"93917e90-1aef-475e-9ec5-10d0cd04ee64\",\"type\":\"LinearAxis\"},{\"attributes\":{\"below\":[{\"id\":\"535be439-0d21-4c4a-99b1-6d31eca8d690\",\"type\":\"LinearAxis\"}],\"left\":[{\"id\":\"93917e90-1aef-475e-9ec5-10d0cd04ee64\",\"type\":\"LinearAxis\"}],\"renderers\":[{\"id\":\"535be439-0d21-4c4a-99b1-6d31eca8d690\",\"type\":\"LinearAxis\"},{\"id\":\"789e00f5-269e-414b-82e1-fb9766e9f300\",\"type\":\"Grid\"},{\"id\":\"93917e90-1aef-475e-9ec5-10d0cd04ee64\",\"type\":\"LinearAxis\"},{\"id\":\"c3f914f1-7492-4640-8c41-da5876d88490\",\"type\":\"Grid\"},{\"id\":\"d880903e-9127-4ca4-84db-80d0ce17bd1a\",\"type\":\"BoxAnnotation\"},{\"id\":\"3c53e0bc-2102-406e-a9b8-dc2b875f1bf0\",\"type\":\"GlyphRenderer\"}],\"title\":{\"id\":\"33ca14eb-6c52-44ec-ab7d-c89c1b5d0e78\",\"type\":\"Title\"},\"tool_events\":{\"id\":\"fc39d482-8f27-4823-9310-8b628380b71e\",\"type\":\"ToolEvents\"},\"toolbar\":{\"id\":\"9eea85f0-bb4a-4d55-aeb2-bf5dc7f025e7\",\"type\":\"Toolbar\"},\"x_range\":{\"id\":\"f158cc78-ffa9-48b5-b489-9ed9adb0301c\",\"type\":\"DataRange1d\"},\"y_range\":{\"id\":\"4e0a6a4c-ca38-454a-87dc-9cac418531a3\",\"type\":\"DataRange1d\"}},\"id\":\"b37c6a28-4290-480c-b77c-02ff28023f1f\",\"subtype\":\"Figure\",\"type\":\"Plot\"},{\"attributes\":{\"plot\":{\"id\":\"b37c6a28-4290-480c-b77c-02ff28023f1f\",\"subtype\":\"Figure\",\"type\":\"Plot\"}},\"id\":\"f8c85d34-5d5a-4a16-a007-43bf925d0a35\",\"type\":\"SaveTool\"},{\"attributes\":{},\"id\":\"ee0623ae-2537-44c9-a738-694ae80c51b1\",\"type\":\"BasicTicker\"},{\"attributes\":{\"plot\":{\"id\":\"b37c6a28-4290-480c-b77c-02ff28023f1f\",\"subtype\":\"Figure\",\"type\":\"Plot\"}},\"id\":\"07218a23-c81f-4033-a8bf-53702e3a6fee\",\"type\":\"PanTool\"},{\"attributes\":{\"callback\":null},\"id\":\"f158cc78-ffa9-48b5-b489-9ed9adb0301c\",\"type\":\"DataRange1d\"},{\"attributes\":{},\"id\":\"fc39d482-8f27-4823-9310-8b628380b71e\",\"type\":\"ToolEvents\"},{\"attributes\":{},\"id\":\"7e731344-61ee-45aa-94c1-76e9331755bb\",\"type\":\"BasicTickFormatter\"},{\"attributes\":{\"fill_alpha\":{\"value\":0.1},\"fill_color\":{\"value\":\"#1f77b4\"},\"line_alpha\":{\"value\":0.1},\"line_color\":{\"value\":\"#1f77b4\"},\"x\":{\"field\":\"x\"},\"y\":{\"field\":\"y\"}},\"id\":\"43fa85d0-1571-4204-bd45-062995de709a\",\"type\":\"Circle\"},{\"attributes\":{\"callback\":null,\"column_names\":[\"y\",\"x\"],\"data\":{\"x\":{\"__ndarray__\":\"ZmZmZmZm9j9mZmZmZmb2P83MzMzMzPQ/AAAAAAAA+D9mZmZmZmb2PzMzMzMzM/s/ZmZmZmZm9j8AAAAAAAD4P2ZmZmZmZvY/AAAAAAAA+D8AAAAAAAD4P5qZmZmZmfk/ZmZmZmZm9j+amZmZmZnxPzMzMzMzM/M/AAAAAAAA+D/NzMzMzMz0P2ZmZmZmZvY/MzMzMzMz+z8AAAAAAAD4PzMzMzMzM/s/AAAAAAAA+D8AAAAAAADwPzMzMzMzM/s/ZmZmZmZm/j+amZmZmZn5P5qZmZmZmfk/AAAAAAAA+D9mZmZmZmb2P5qZmZmZmfk/mpmZmZmZ+T8AAAAAAAD4PwAAAAAAAPg/ZmZmZmZm9j8AAAAAAAD4PzMzMzMzM/M/zczMzMzM9D9mZmZmZmb2P83MzMzMzPQ/AAAAAAAA+D/NzMzMzMz0P83MzMzMzPQ/zczMzMzM9D+amZmZmZn5P2ZmZmZmZv4/ZmZmZmZm9j+amZmZmZn5P2ZmZmZmZvY/AAAAAAAA+D9mZmZmZmb2P83MzMzMzBJAAAAAAAAAEkCamZmZmZkTQAAAAAAAABBAZmZmZmZmEkAAAAAAAAASQM3MzMzMzBJAZmZmZmZmCkBmZmZmZmYSQDMzMzMzMw9AAAAAAAAADEDNzMzMzMwQQAAAAAAAABBAzczMzMzMEkDNzMzMzMwMQJqZmZmZmRFAAAAAAAAAEkBmZmZmZmYQQAAAAAAAABJAMzMzMzMzD0AzMzMzMzMTQAAAAAAAABBAmpmZmZmZE0DNzMzMzMwSQDMzMzMzMxFAmpmZmZmZEUAzMzMzMzMTQAAAAAAAABRAAAAAAAAAEkAAAAAAAAAMQGZmZmZmZg5AmpmZmZmZDUAzMzMzMzMPQGZmZmZmZhRAAAAAAAAAEkAAAAAAAAASQM3MzMzMzBJAmpmZmZmZEUBmZmZmZmYQQAAAAAAAABBAmpmZmZmZEUBmZmZmZmYSQAAAAAAAABBAZmZmZmZmCkDNzMzMzMwQQM3MzMzMzBBAzczMzMzMEEAzMzMzMzMRQAAAAAAAAAhAZmZmZmZmEEAAAAAAAAAYQGZmZmZmZhRAmpmZmZmZF0BmZmZmZmYWQDMzMzMzMxdAZmZmZmZmGkAAAAAAAAASQDMzMzMzMxlAMzMzMzMzF0BmZmZmZmYYQGZmZmZmZhRAMzMzMzMzFUAAAAAAAAAWQAAAAAAAABRAZmZmZmZmFEAzMzMzMzMVQAAAAAAAABZAzczMzMzMGkCamZmZmZkbQAAAAAAAABRAzczMzMzMFkCamZmZmZkTQM3MzMzMzBpAmpmZmZmZE0DNzMzMzMwWQAAAAAAAABhAMzMzMzMzE0CamZmZmZkTQGZmZmZmZhZAMzMzMzMzF0BmZmZmZmYYQJqZmZmZmRlAZmZmZmZmFkBmZmZmZmYUQGZmZmZmZhZAZmZmZmZmGEBmZmZmZmYWQAAAAAAAABZAMzMzMzMzE0CamZmZmZkVQGZmZmZmZhZAZmZmZmZmFEBmZmZmZmYUQJqZmZmZmRdAzczMzMzMFkDNzMzMzMwUQAAAAAAAABRAzczMzMzMFECamZmZmZkVQGZmZmZmZhRA\",\"dtype\":\"float64\",\"shape\":[150]},\"y\":{\"__ndarray__\":\"ZmZmZmZmFECamZmZmZkTQM3MzMzMzBJAZmZmZmZmEkAAAAAAAAAUQJqZmZmZmRVAZmZmZmZmEkAAAAAAAAAUQJqZmZmZmRFAmpmZmZmZE0CamZmZmZkVQDMzMzMzMxNAMzMzMzMzE0AzMzMzMzMRQDMzMzMzMxdAzczMzMzMFkCamZmZmZkVQGZmZmZmZhRAzczMzMzMFkBmZmZmZmYUQJqZmZmZmRVAZmZmZmZmFEBmZmZmZmYSQGZmZmZmZhRAMzMzMzMzE0AAAAAAAAAUQAAAAAAAABRAzczMzMzMFEDNzMzMzMwUQM3MzMzMzBJAMzMzMzMzE0CamZmZmZkVQM3MzMzMzBRAAAAAAAAAFkCamZmZmZkTQAAAAAAAABRAAAAAAAAAFkCamZmZmZkTQJqZmZmZmRFAZmZmZmZmFEAAAAAAAAAUQAAAAAAAABJAmpmZmZmZEUAAAAAAAAAUQGZmZmZmZhRAMzMzMzMzE0BmZmZmZmYUQGZmZmZmZhJAMzMzMzMzFUAAAAAAAAAUQAAAAAAAABxAmpmZmZmZGUCamZmZmZkbQAAAAAAAABZAAAAAAAAAGkDNzMzMzMwWQDMzMzMzMxlAmpmZmZmZE0BmZmZmZmYaQM3MzMzMzBRAAAAAAAAAFECamZmZmZkXQAAAAAAAABhAZmZmZmZmGEBmZmZmZmYWQM3MzMzMzBpAZmZmZmZmFkAzMzMzMzMXQM3MzMzMzBhAZmZmZmZmFkCamZmZmZkXQGZmZmZmZhhAMzMzMzMzGUBmZmZmZmYYQJqZmZmZmRlAZmZmZmZmGkAzMzMzMzMbQM3MzMzMzBpAAAAAAAAAGEDNzMzMzMwWQAAAAAAAABZAAAAAAAAAFkAzMzMzMzMXQAAAAAAAABhAmpmZmZmZFUAAAAAAAAAYQM3MzMzMzBpAMzMzMzMzGUBmZmZmZmYWQAAAAAAAABZAAAAAAAAAFkBmZmZmZmYYQDMzMzMzMxdAAAAAAAAAFEBmZmZmZmYWQM3MzMzMzBZAzczMzMzMFkDNzMzMzMwYQGZmZmZmZhRAzczMzMzMFkAzMzMzMzMZQDMzMzMzMxdAZmZmZmZmHEAzMzMzMzMZQAAAAAAAABpAZmZmZmZmHkCamZmZmZkTQDMzMzMzMx1AzczMzMzMGkDNzMzMzMwcQAAAAAAAABpAmpmZmZmZGUAzMzMzMzMbQM3MzMzMzBZAMzMzMzMzF0CamZmZmZkZQAAAAAAAABpAzczMzMzMHkDNzMzMzMweQAAAAAAAABhAmpmZmZmZG0BmZmZmZmYWQM3MzMzMzB5AMzMzMzMzGUDNzMzMzMwaQM3MzMzMzBxAzczMzMzMGEBmZmZmZmYYQJqZmZmZmRlAzczMzMzMHECamZmZmZkdQJqZmZmZmR9AmpmZmZmZGUAzMzMzMzMZQGZmZmZmZhhAzczMzMzMHkAzMzMzMzMZQJqZmZmZmRlAAAAAAAAAGECamZmZmZkbQM3MzMzMzBpAmpmZmZmZG0AzMzMzMzMXQDMzMzMzMxtAzczMzMzMGkDNzMzMzMwaQDMzMzMzMxlAAAAAAAAAGkDNzMzMzMwYQJqZmZmZmRdA\",\"dtype\":\"float64\",\"shape\":[150]}}},\"id\":\"7f053ad5-00d9-4a40-ba53-679f4cfc7a75\",\"type\":\"ColumnDataSource\"},{\"attributes\":{\"bottom_units\":\"screen\",\"fill_alpha\":{\"value\":0.5},\"fill_color\":{\"value\":\"lightgrey\"},\"left_units\":\"screen\",\"level\":\"overlay\",\"line_alpha\":{\"value\":1.0},\"line_color\":{\"value\":\"black\"},\"line_dash\":[4,4],\"line_width\":{\"value\":2},\"plot\":null,\"render_mode\":\"css\",\"right_units\":\"screen\",\"top_units\":\"screen\"},\"id\":\"d880903e-9127-4ca4-84db-80d0ce17bd1a\",\"type\":\"BoxAnnotation\"}],\"root_ids\":[\"b37c6a28-4290-480c-b77c-02ff28023f1f\"]},\"title\":\"Bokeh Application\",\"version\":\"0.12.4\"}};\n",
       "            var render_items = [{\"docid\":\"5456440c-3237-4b8d-8b1a-2281d4b468a5\",\"elementid\":\"3f4af06b-84d2-4e98-be0b-89bc02a95762\",\"modelid\":\"b37c6a28-4290-480c-b77c-02ff28023f1f\"}];\n",
       "            \n",
       "            Bokeh.embed.embed_items(docs_json, render_items);\n",
       "          };\n",
       "          if (document.readyState != \"loading\") fn();\n",
       "          else document.addEventListener(\"DOMContentLoaded\", fn);\n",
       "        })();\n",
       "      },\n",
       "      function(Bokeh) {\n",
       "      }\n",
       "    ];\n",
       "  \n",
       "    function run_inline_js() {\n",
       "      \n",
       "      if ((window.Bokeh !== undefined) || (force === true)) {\n",
       "        for (var i = 0; i < inline_js.length; i++) {\n",
       "          inline_js[i](window.Bokeh);\n",
       "        }if (force === true) {\n",
       "          display_loaded();\n",
       "        }} else if (Date.now() < window._bokeh_timeout) {\n",
       "        setTimeout(run_inline_js, 100);\n",
       "      } else if (!window._bokeh_failed_load) {\n",
       "        console.log(\"Bokeh: BokehJS failed to load within specified timeout.\");\n",
       "        window._bokeh_failed_load = true;\n",
       "      } else if (force !== true) {\n",
       "        var cell = $(document.getElementById(\"3f4af06b-84d2-4e98-be0b-89bc02a95762\")).parents('.cell').data().cell;\n",
       "        cell.output_area.append_execute_result(NB_LOAD_WARNING)\n",
       "      }\n",
       "  \n",
       "    }\n",
       "  \n",
       "    if (window._bokeh_is_loading === 0) {\n",
       "      console.log(\"Bokeh: BokehJS loaded, going straight to plotting\");\n",
       "      run_inline_js();\n",
       "    } else {\n",
       "      load_libs(js_urls, function() {\n",
       "        console.log(\"Bokeh: BokehJS plotting callback run at\", now());\n",
       "        run_inline_js();\n",
       "      });\n",
       "    }\n",
       "  }(this));\n",
       "</script>"
      ]
     },
     "metadata": {},
     "output_type": "display_data"
    }
   ],
   "source": [
    "fig = Figure()\n",
    "fig.circle(X['petal_length'],y)\n",
    "\n",
    "show(fig)"
   ]
  },
  {
   "cell_type": "markdown",
   "metadata": {},
   "source": [
    "Having prepared the data, we can now fit the data to a linear regression model, and then begin analysis:"
   ]
  },
  {
   "cell_type": "code",
   "execution_count": 6,
   "metadata": {
    "collapsed": false
   },
   "outputs": [
    {
     "name": "stdout",
     "output_type": "stream",
     "text": [
      "{'copy_X': True, 'normalize': False, 'intercept_': 4.3066034150475794, 'n_jobs': 1, 'singular_': array([ 21.54821106]), 'rank_': 1, 'fit_intercept': True, '_residues': 24.525033765831754, 'coef_': array([ 0.40892228])}\n"
     ]
    }
   ],
   "source": [
    "# Call the fit function on the data\n",
    "lm = LinearRegression()\n",
    "lm.fit(X, y)\n",
    "print(vars(lm))"
   ]
  },
  {
   "cell_type": "markdown",
   "metadata": {},
   "source": [
    "Having fitted the model to the data, we can establish what the regression line by using the `coef_` and `intercept_` values, which we can use in order to generate an equation in the format `y = mx + c`:"
   ]
  },
  {
   "cell_type": "code",
   "execution_count": 7,
   "metadata": {
    "collapsed": false
   },
   "outputs": [
    {
     "name": "stdout",
     "output_type": "stream",
     "text": [
      "y = 0.408922x + 4.306603\n"
     ]
    }
   ],
   "source": [
    "m = lm.coef_[0]\n",
    "c = lm.intercept_\n",
    "print('y = %fx + %f' % (m,c))"
   ]
  },
  {
   "cell_type": "markdown",
   "metadata": {},
   "source": [
    "We don't necessarily need to use the equation, however, there is additionally a useful **`predict`** function which allows us to enter one or more numbers for which it will predict the outcome."
   ]
  },
  {
   "cell_type": "code",
   "execution_count": 8,
   "metadata": {
    "collapsed": false
   },
   "outputs": [
    {
     "name": "stdout",
     "output_type": "stream",
     "text": [
      "[ 4.30660342]\n"
     ]
    },
    {
     "name": "stderr",
     "output_type": "stream",
     "text": [
      "/opt/conda/lib/python3.5/site-packages/sklearn/utils/validation.py:395: DeprecationWarning: Passing 1d arrays as data is deprecated in 0.17 and will raise ValueError in 0.19. Reshape your data either using X.reshape(-1, 1) if your data has a single feature or X.reshape(1, -1) if it contains a single sample.\n",
      "  DeprecationWarning)\n"
     ]
    },
    {
     "data": {
      "text/plain": [
       "array([ 5.53337025,  6.3512148 ,  5.94229252])"
      ]
     },
     "execution_count": 8,
     "metadata": {},
     "output_type": "execute_result"
    }
   ],
   "source": [
    "var = 0\n",
    "\n",
    "print(lm.predict([var]))\n",
    "lm.predict??\n",
    "\n",
    "# Note that like with the earlier Series, the `predict` function is prepared for the fact that each value\n",
    "# to predict could have multiple features.  So it accepts a list of lists\n",
    "# This will give a deprecation warning\n",
    "var = [[3], [5], [4]]\n",
    "lm.predict(var)\n",
    "\n",
    "# if a warning message box appears this indicates a possible depracated code issue, don't worry - \n",
    "# you have not broken the internet!"
   ]
  },
  {
   "cell_type": "markdown",
   "metadata": {},
   "source": [
    "# Evaluation of a Model\n",
    "## Training and Testing Data\n",
    "In order to ensure that our model can cope with the whole of the dataset, we will split our data into a **training set** and a **testing set**, and **cross validate** the results.  We need to be careful that the ordering of our data is sufficiently **random** when doing this.  For example, if it was sorted by value, we would be training only on a specific type of value making our model less accurate against values outside that range.\n",
    "\n",
    "The function **['train_test_split'](http://scikit-learn.org/stable/modules/generated/sklearn.model_selection.train_test_split.html)** from the `sklearn.model_selection` module performs this task for us - both splitting the data, and ensuring that the ordering is sufficiently random.  It returns four values, we will assign each of those a value as the output of this function by declaring them on the same line as follows:"
   ]
  },
  {
   "cell_type": "code",
   "execution_count": 9,
   "metadata": {
    "collapsed": true
   },
   "outputs": [],
   "source": [
    "X_train, X_test, y_train, y_test = train_test_split(X, y, test_size=0.2)"
   ]
  },
  {
   "cell_type": "markdown",
   "metadata": {},
   "source": [
    "## Residual Analysis\n",
    "\n",
    "In order to ensure that our model is appropriate for the data, we first make an analysis of the residuals, i.e., the difference between the predicted value and the observed value.  If the data are randomly clustered around 0, then that is a sign the data are appropriate.  However, if there is a pattern in the data, then that suggests that there is some form of bias.\n",
    "\n",
    "We can use the `predict` method of the `LinearRegression` class to get the predicted values (which we'll use as the  `X` values), and we subtract the actual values from them, as follows:"
   ]
  },
  {
   "cell_type": "code",
   "execution_count": 12,
   "metadata": {
    "collapsed": false
   },
   "outputs": [
    {
     "data": {
      "text/html": [
       "\n",
       "\n",
       "    <div class=\"bk-root\">\n",
       "        <div class=\"bk-plotdiv\" id=\"a60d64c6-76f1-44b2-a966-b98bb7234673\"></div>\n",
       "    </div>\n",
       "<script type=\"text/javascript\">\n",
       "  \n",
       "  (function(global) {\n",
       "    function now() {\n",
       "      return new Date();\n",
       "    }\n",
       "  \n",
       "    var force = false;\n",
       "  \n",
       "    if (typeof (window._bokeh_onload_callbacks) === \"undefined\" || force === true) {\n",
       "      window._bokeh_onload_callbacks = [];\n",
       "      window._bokeh_is_loading = undefined;\n",
       "    }\n",
       "  \n",
       "  \n",
       "    \n",
       "    if (typeof (window._bokeh_timeout) === \"undefined\" || force === true) {\n",
       "      window._bokeh_timeout = Date.now() + 0;\n",
       "      window._bokeh_failed_load = false;\n",
       "    }\n",
       "  \n",
       "    var NB_LOAD_WARNING = {'data': {'text/html':\n",
       "       \"<div style='background-color: #fdd'>\\n\"+\n",
       "       \"<p>\\n\"+\n",
       "       \"BokehJS does not appear to have successfully loaded. If loading BokehJS from CDN, this \\n\"+\n",
       "       \"may be due to a slow or bad network connection. Possible fixes:\\n\"+\n",
       "       \"</p>\\n\"+\n",
       "       \"<ul>\\n\"+\n",
       "       \"<li>re-rerun `output_notebook()` to attempt to load from CDN again, or</li>\\n\"+\n",
       "       \"<li>use INLINE resources instead, as so:</li>\\n\"+\n",
       "       \"</ul>\\n\"+\n",
       "       \"<code>\\n\"+\n",
       "       \"from bokeh.resources import INLINE\\n\"+\n",
       "       \"output_notebook(resources=INLINE)\\n\"+\n",
       "       \"</code>\\n\"+\n",
       "       \"</div>\"}};\n",
       "  \n",
       "    function display_loaded() {\n",
       "      if (window.Bokeh !== undefined) {\n",
       "        document.getElementById(\"a60d64c6-76f1-44b2-a966-b98bb7234673\").textContent = \"BokehJS successfully loaded.\";\n",
       "      } else if (Date.now() < window._bokeh_timeout) {\n",
       "        setTimeout(display_loaded, 100)\n",
       "      }\n",
       "    }\n",
       "  \n",
       "    function run_callbacks() {\n",
       "      window._bokeh_onload_callbacks.forEach(function(callback) { callback() });\n",
       "      delete window._bokeh_onload_callbacks\n",
       "      console.info(\"Bokeh: all callbacks have finished\");\n",
       "    }\n",
       "  \n",
       "    function load_libs(js_urls, callback) {\n",
       "      window._bokeh_onload_callbacks.push(callback);\n",
       "      if (window._bokeh_is_loading > 0) {\n",
       "        console.log(\"Bokeh: BokehJS is being loaded, scheduling callback at\", now());\n",
       "        return null;\n",
       "      }\n",
       "      if (js_urls == null || js_urls.length === 0) {\n",
       "        run_callbacks();\n",
       "        return null;\n",
       "      }\n",
       "      console.log(\"Bokeh: BokehJS not loaded, scheduling load and callback at\", now());\n",
       "      window._bokeh_is_loading = js_urls.length;\n",
       "      for (var i = 0; i < js_urls.length; i++) {\n",
       "        var url = js_urls[i];\n",
       "        var s = document.createElement('script');\n",
       "        s.src = url;\n",
       "        s.async = false;\n",
       "        s.onreadystatechange = s.onload = function() {\n",
       "          window._bokeh_is_loading--;\n",
       "          if (window._bokeh_is_loading === 0) {\n",
       "            console.log(\"Bokeh: all BokehJS libraries loaded\");\n",
       "            run_callbacks()\n",
       "          }\n",
       "        };\n",
       "        s.onerror = function() {\n",
       "          console.warn(\"failed to load library \" + url);\n",
       "        };\n",
       "        console.log(\"Bokeh: injecting script tag for BokehJS library: \", url);\n",
       "        document.getElementsByTagName(\"head\")[0].appendChild(s);\n",
       "      }\n",
       "    };var element = document.getElementById(\"a60d64c6-76f1-44b2-a966-b98bb7234673\");\n",
       "    if (element == null) {\n",
       "      console.log(\"Bokeh: ERROR: autoload.js configured with elementid 'a60d64c6-76f1-44b2-a966-b98bb7234673' but no matching script tag was found. \")\n",
       "      return false;\n",
       "    }\n",
       "  \n",
       "    var js_urls = [];\n",
       "  \n",
       "    var inline_js = [\n",
       "      function(Bokeh) {\n",
       "        (function() {\n",
       "          var fn = function() {\n",
       "            var docs_json = {\"9725601c-4944-4918-8d1d-65c515ba2d99\":{\"roots\":{\"references\":[{\"attributes\":{\"line_alpha\":{\"value\":0.1},\"line_color\":{\"value\":\"#1f77b4\"},\"x\":{\"field\":\"x\"},\"y\":{\"field\":\"y\"}},\"id\":\"59dff2b8-eca9-4a84-861c-3ec12287cb9e\",\"type\":\"Line\"},{\"attributes\":{},\"id\":\"25b63bc1-0d45-41f8-af5c-9c8787c6d997\",\"type\":\"BasicTicker\"},{\"attributes\":{\"callback\":null},\"id\":\"5c01254e-fd93-47d1-99ef-5bb1c1af3a4a\",\"type\":\"DataRange1d\"},{\"attributes\":{\"dimension\":1,\"plot\":{\"id\":\"b8671c03-bd5d-41d4-8ce8-c21010794f62\",\"subtype\":\"Figure\",\"type\":\"Plot\"},\"ticker\":{\"id\":\"25b63bc1-0d45-41f8-af5c-9c8787c6d997\",\"type\":\"BasicTicker\"}},\"id\":\"c7db53c3-e548-46dd-a5fe-ab2c7686d85d\",\"type\":\"Grid\"},{\"attributes\":{\"plot\":{\"id\":\"b8671c03-bd5d-41d4-8ce8-c21010794f62\",\"subtype\":\"Figure\",\"type\":\"Plot\"}},\"id\":\"44c8ee57-a493-4675-9cea-11eab8a40e6b\",\"type\":\"SaveTool\"},{\"attributes\":{},\"id\":\"626c3a9a-c8c1-4112-8b78-ae5c4a5520ff\",\"type\":\"BasicTickFormatter\"},{\"attributes\":{\"callback\":null},\"id\":\"b97b5f00-fc96-4faa-8f01-6adb7d548f50\",\"type\":\"DataRange1d\"},{\"attributes\":{\"plot\":null,\"text\":\"\"},\"id\":\"aa1d1cda-6f63-49e4-99b6-9d62b07ac2a3\",\"type\":\"Title\"},{\"attributes\":{\"active_drag\":\"auto\",\"active_scroll\":\"auto\",\"active_tap\":\"auto\",\"tools\":[{\"id\":\"f3cdc0d8-adac-49b9-9fbc-6482781df496\",\"type\":\"PanTool\"},{\"id\":\"53445593-a816-4351-bbfc-a49b871ddd71\",\"type\":\"WheelZoomTool\"},{\"id\":\"d2b2ee6b-1b87-46f8-8421-b1bf4bca3cd2\",\"type\":\"BoxZoomTool\"},{\"id\":\"44c8ee57-a493-4675-9cea-11eab8a40e6b\",\"type\":\"SaveTool\"},{\"id\":\"cae31bfe-70d5-4f6d-bb5d-77809824c7d4\",\"type\":\"ResetTool\"},{\"id\":\"8c1f2804-6bba-4252-8cee-69750441404c\",\"type\":\"HelpTool\"}]},\"id\":\"d9274613-f8e0-4a36-85cc-e6c05abf3998\",\"type\":\"Toolbar\"},{\"attributes\":{\"formatter\":{\"id\":\"173b2cda-03fc-455c-b1d1-fe19730c5d9c\",\"type\":\"BasicTickFormatter\"},\"plot\":{\"id\":\"b8671c03-bd5d-41d4-8ce8-c21010794f62\",\"subtype\":\"Figure\",\"type\":\"Plot\"},\"ticker\":{\"id\":\"25b63bc1-0d45-41f8-af5c-9c8787c6d997\",\"type\":\"BasicTicker\"}},\"id\":\"4cec14ac-8a94-41c0-8f0d-f1b90334398a\",\"type\":\"LinearAxis\"},{\"attributes\":{\"plot\":{\"id\":\"b8671c03-bd5d-41d4-8ce8-c21010794f62\",\"subtype\":\"Figure\",\"type\":\"Plot\"},\"ticker\":{\"id\":\"1149acf5-0469-4139-bf94-79573653d74d\",\"type\":\"BasicTicker\"}},\"id\":\"e5bf0ac9-04e7-4666-892f-eff5e1b1cc8e\",\"type\":\"Grid\"},{\"attributes\":{\"data_source\":{\"id\":\"10e93543-04d7-4b04-a6b8-6f2c7e532280\",\"type\":\"ColumnDataSource\"},\"glyph\":{\"id\":\"dc4bfbc6-9513-452e-8863-d65a5399d880\",\"type\":\"Line\"},\"hover_glyph\":null,\"nonselection_glyph\":{\"id\":\"59dff2b8-eca9-4a84-861c-3ec12287cb9e\",\"type\":\"Line\"},\"selection_glyph\":null},\"id\":\"1d660d54-4e66-4d71-9e96-9a1ab8aa071e\",\"type\":\"GlyphRenderer\"},{\"attributes\":{\"data_source\":{\"id\":\"e2c35218-b409-45f2-b8db-30e000a3d5d1\",\"type\":\"ColumnDataSource\"},\"glyph\":{\"id\":\"9ddf5be7-8ee0-42d9-a18c-27b67eca9f7f\",\"type\":\"Circle\"},\"hover_glyph\":null,\"nonselection_glyph\":{\"id\":\"6c543b52-846d-48bd-9441-fcd05e2a4806\",\"type\":\"Circle\"},\"selection_glyph\":null},\"id\":\"c9de7bae-812d-454a-b244-8441b5fea27b\",\"type\":\"GlyphRenderer\"},{\"attributes\":{\"overlay\":{\"id\":\"71849126-6e1d-4e5f-8545-36e01d7d2e40\",\"type\":\"BoxAnnotation\"},\"plot\":{\"id\":\"b8671c03-bd5d-41d4-8ce8-c21010794f62\",\"subtype\":\"Figure\",\"type\":\"Plot\"}},\"id\":\"d2b2ee6b-1b87-46f8-8421-b1bf4bca3cd2\",\"type\":\"BoxZoomTool\"},{\"attributes\":{\"plot\":{\"id\":\"b8671c03-bd5d-41d4-8ce8-c21010794f62\",\"subtype\":\"Figure\",\"type\":\"Plot\"}},\"id\":\"53445593-a816-4351-bbfc-a49b871ddd71\",\"type\":\"WheelZoomTool\"},{\"attributes\":{\"below\":[{\"id\":\"608e4d5b-6c9b-4bd2-9561-16ece1851a34\",\"type\":\"LinearAxis\"}],\"left\":[{\"id\":\"4cec14ac-8a94-41c0-8f0d-f1b90334398a\",\"type\":\"LinearAxis\"}],\"renderers\":[{\"id\":\"608e4d5b-6c9b-4bd2-9561-16ece1851a34\",\"type\":\"LinearAxis\"},{\"id\":\"e5bf0ac9-04e7-4666-892f-eff5e1b1cc8e\",\"type\":\"Grid\"},{\"id\":\"4cec14ac-8a94-41c0-8f0d-f1b90334398a\",\"type\":\"LinearAxis\"},{\"id\":\"c7db53c3-e548-46dd-a5fe-ab2c7686d85d\",\"type\":\"Grid\"},{\"id\":\"71849126-6e1d-4e5f-8545-36e01d7d2e40\",\"type\":\"BoxAnnotation\"},{\"id\":\"c9de7bae-812d-454a-b244-8441b5fea27b\",\"type\":\"GlyphRenderer\"},{\"id\":\"1d660d54-4e66-4d71-9e96-9a1ab8aa071e\",\"type\":\"GlyphRenderer\"}],\"title\":{\"id\":\"aa1d1cda-6f63-49e4-99b6-9d62b07ac2a3\",\"type\":\"Title\"},\"tool_events\":{\"id\":\"e950218c-fac7-4639-8756-c994a145478e\",\"type\":\"ToolEvents\"},\"toolbar\":{\"id\":\"d9274613-f8e0-4a36-85cc-e6c05abf3998\",\"type\":\"Toolbar\"},\"x_range\":{\"id\":\"b97b5f00-fc96-4faa-8f01-6adb7d548f50\",\"type\":\"DataRange1d\"},\"y_range\":{\"id\":\"5c01254e-fd93-47d1-99ef-5bb1c1af3a4a\",\"type\":\"DataRange1d\"}},\"id\":\"b8671c03-bd5d-41d4-8ce8-c21010794f62\",\"subtype\":\"Figure\",\"type\":\"Plot\"},{\"attributes\":{\"callback\":null,\"column_names\":[\"y\",\"x\"],\"data\":{\"x\":[4.7155256923987645,7.128167128770759],\"y\":[0,0]}},\"id\":\"10e93543-04d7-4b04-a6b8-6f2c7e532280\",\"type\":\"ColumnDataSource\"},{\"attributes\":{\"bottom_units\":\"screen\",\"fill_alpha\":{\"value\":0.5},\"fill_color\":{\"value\":\"lightgrey\"},\"left_units\":\"screen\",\"level\":\"overlay\",\"line_alpha\":{\"value\":1.0},\"line_color\":{\"value\":\"black\"},\"line_dash\":[4,4],\"line_width\":{\"value\":2},\"plot\":null,\"render_mode\":\"css\",\"right_units\":\"screen\",\"top_units\":\"screen\"},\"id\":\"71849126-6e1d-4e5f-8545-36e01d7d2e40\",\"type\":\"BoxAnnotation\"},{\"attributes\":{},\"id\":\"1149acf5-0469-4139-bf94-79573653d74d\",\"type\":\"BasicTicker\"},{\"attributes\":{\"plot\":{\"id\":\"b8671c03-bd5d-41d4-8ce8-c21010794f62\",\"subtype\":\"Figure\",\"type\":\"Plot\"}},\"id\":\"cae31bfe-70d5-4f6d-bb5d-77809824c7d4\",\"type\":\"ResetTool\"},{\"attributes\":{\"callback\":null,\"column_names\":[\"y\",\"x\"],\"data\":{\"x\":{\"__ndarray__\":\"frotYDGEE0B+ui1gMYQTQMmYOrlRWhNANNwgBxGuE0B+ui1gMYQTQJ4fB1XQARRAfrotYDGEE0A03CAHEa4TQH66LWAxhBNANNwgBxGuE0A03CAHEa4TQOn9E67w1xNAfrotYDGEE0BfVVRrkgYTQBR3RxJyMBNANNwgBxGuE0DJmDq5UVoTQH66LWAxhBNAnh8HVdABFEA03CAHEa4TQJ4fB1XQARRANNwgBxGuE0CpM2HEstwSQJ4fB1XQARRACWPtoo9VFEDp/ROu8NcTQOn9E67w1xNANNwgBxGuE0B+ui1gMYQTQOn9E67w1xNA6f0TrvDXE0A03CAHEa4TQDTcIAcRrhNAfrotYDGEE0A03CAHEa4TQBR3RxJyMBNAyZg6uVFaE0B+ui1gMYQTQMmYOrlRWhNANNwgBxGuE0DJmDq5UVoTQMmYOrlRWhNAyZg6uVFaE0Dp/ROu8NcTQAlj7aKPVRRAfrotYDGEE0Dp/ROu8NcTQH66LWAxhBNANNwgBxGuE0B+ui1gMYQTQN4SheUF6hhAdM+el0aWGEBJVmszxT0ZQOkm31ToxBdAKfGRPibAGEB0z56XRpYYQN4SheUF6hhA9Do5xMqfFkAp8ZE+JsAYQDQF7K0ImxdAXn4fEorzFkBUasWipxgYQOkm31ToxBdA3hKF5QXqGEAUoBK5aR0XQL6tq/BmbBhAdM+el0aWGECeSNL7x+4XQHTPnpdGlhhANAXsrQibF0CUNHiM5RMZQOkm31ToxBdASVZrM8U9GUDeEoXlBeoYQAmMuEmHQhhAvq2r8GZsGECUNHiM5RMZQP53XtqkZxlAdM+el0aWGEBefh8SivMWQH7j+AYpcRdAycEFYElHF0A0BeytCJsXQLSZUYGEkRlAdM+el0aWGEB0z56XRpYYQN4SheUF6hhAvq2r8GZsGECeSNL7x+4XQOkm31ToxBdAvq2r8GZsGEAp8ZE+JsAYQOkm31ToxBdA9Do5xMqfFkBUasWipxgYQFRqxaKnGBhAVGrFoqcYGEAJjLhJh0IYQNTVX88rIhZAnkjS+8fuF0AUyd1fYQobQLSZUYGEkRlAXqfquIHgGkA+QhHE4mIaQKmF9xGithpAVJOQSZ8FHEB0z56XRpYYQDQut1QAiBtAqYX3EaK2GkDI6tAGQTQbQLSZUYGEkRlAHt03z0PlGUCJIB4dAzkaQP53XtqkZxlAtJlRgYSRGUAe3TfPQ+UZQIkgHh0DORpACbWD8H4vHEB0+Gk+PoMcQP53XtqkZxlA9GMEa8KMGkBJVmszxT0ZQAm1g/B+LxxASVZrM8U9GUD0YwRrwowaQBTJ3V9hChtAlDR4jOUTGUBJVmszxT0ZQD5CEcTiYhpAqYX3EaK2GkDI6tAGQTQbQOlPqvvfsRtAPkIRxOJiGkC0mVGBhJEZQD5CEcTiYhpAyOrQBkE0G0A+QhHE4mIaQIkgHh0DORpAlDR4jOUTGUDU/ip2Iw8aQD5CEcTiYhpAtJlRgYSRGUC0mVGBhJEZQF6n6riB4BpA9GMEa8KMGkBpu0QoZLsZQP53XtqkZxlAabtEKGS7GUDU/ip2Iw8aQLSZUYGEkRlA\",\"dtype\":\"float64\",\"shape\":[150]},\"y\":{\"__ndarray__\":\"AH0Vx6BGzL8AHN9rOWiVv4B/uY2dsME/4FynC6p61D+AYJH0p/O+v8CfJ0mUfNm/gEF1nK/c0T8A88g3vnu0v0AOQml8qd4/AJpCh213lD9g1osnibjev8BWGVyvl8Q/wNKhPos/tD/AIhKC8zXdP3zwroMEC/C/yIRfLd716L+IBvgCP/rhvwB9FcegRsy/eGktvuNX5r9ARrHoqwrHv8CfJ0mUfNm/QEax6KsKx7/AULN+F5O9PwCy0VeEJbm/YP2i+8Yl0j+ACwH2qAekv4ALAfaoB6S/kAm/Wrzr0b/wJPHJtonUv8ARcxQ+stA/wFYZXK+XxD9g1osnibjev5AJv1q869G/ECyS/nTe478AmkKHbXeUP4AdEbe98cm/uDkrNnIt5b8AHN9rOWiVv/DyD/qBC9w/QEax6KsKx7/g5qzYyLXEv5CMqZMbpdU/8PIP+oEL3D+ACwH2qAekvwBdA3nD1pC/wNKhPos/tD+gD00Kt87Bv4BBdZyv3NE/8G8lwSJS2L+AYJH0p/O+vxBp19PQr+i/YKKsHzA10L+IGnIxo97iv5Bu8k2FTtw/cO3gFpz9079wKiCtnJfcP0AViGtTS7K/0Ar9VIkx6D/QU0d9AmTavzjD+QjfceY/8PL7kFCc5z+ALvRKgsO/P4CLbJDVi62/AI/V4+9zwD/ANYdVauDGP3j4COEuA+O/cEjDiQF/4T9greITmXLHP4Cs/pYaQ6u/4OxZeCRK0z+gr+ktv6TXP6Dv5zDCL8S/ACxGcAAkhT8Aj9Xj73PAPxDZEP4kcdW/gIqrW/ef37/49Nc1bfrgv/BM5SZ/Uta/gO7Z89LIwj+AyFipol6jP+A3jm+QEtc/kBxcAJZ01D9AgDSuXvW5P0CbGRVIGNk/0K4p8Gfl5z+A7tnz0sjCP/Cee3RuLN6/oK7wUIjZyL+AI75WGYbYP5Bu8k2FTtw/8G1dhTdj4z/AsOIK9m+2P8B2fjWkNsI/oNfJIVb+5D/gPvDFEyTbP3DYiV+tvdQ/cNiJX6291D+AGIhisEjBv+D2lo9WvNs/EL1X8LIf0j8QXqnK4nLdPwg083CK8uI/gPC710pe2L+w8OAN+frSPyC18D5C1MY/kJiu5jgG479o1xT4s/LzP/BPwOcts9q/ACRH1boqlr9QIL5fvIjZvwCTmavfnru/AOGQZ43qsj9AVaLCAkbPv4hZjWzA1uQ/CDTzcIry4j8A4ZBnjeqyP4BEEI+Ogaw/IL5I4m7q5L/IohZzdEziv+B/56VNetY/YFpT6XLN0L8Yfydo9rrmPyC+SOJu6uS/ACxGcAAkhT9ANhpymAKwv5A78M62Jty/wPHZ6i/GsT9g/J2g2evKP4AU9U4lKck/IDmq1lWx4L+QdkWWxCrjv4hNeu/MPe+/gBT1TiUpyT9AoJmHU5S3P4C9rdrFx98/KBDfL17E7L+w8OAN+frSP+DdkHAw7cM/QEmDx1g+0T9grOk2YqfYv8Cj4i6Cerq/MP8/wqhA4L8INPNwivLiP0D1IpJerLS/QDYacpgCsL9AFoFIihbRv4BlopXTOKo/wCXR7vUmsb9wIOOVaiXUP6ABgHuuft8/\",\"dtype\":\"float64\",\"shape\":[150]}}},\"id\":\"e2c35218-b409-45f2-b8db-30e000a3d5d1\",\"type\":\"ColumnDataSource\"},{\"attributes\":{\"formatter\":{\"id\":\"626c3a9a-c8c1-4112-8b78-ae5c4a5520ff\",\"type\":\"BasicTickFormatter\"},\"plot\":{\"id\":\"b8671c03-bd5d-41d4-8ce8-c21010794f62\",\"subtype\":\"Figure\",\"type\":\"Plot\"},\"ticker\":{\"id\":\"1149acf5-0469-4139-bf94-79573653d74d\",\"type\":\"BasicTicker\"}},\"id\":\"608e4d5b-6c9b-4bd2-9561-16ece1851a34\",\"type\":\"LinearAxis\"},{\"attributes\":{\"fill_color\":{\"value\":\"#1f77b4\"},\"line_color\":{\"value\":\"#1f77b4\"},\"x\":{\"field\":\"x\"},\"y\":{\"field\":\"y\"}},\"id\":\"9ddf5be7-8ee0-42d9-a18c-27b67eca9f7f\",\"type\":\"Circle\"},{\"attributes\":{\"plot\":{\"id\":\"b8671c03-bd5d-41d4-8ce8-c21010794f62\",\"subtype\":\"Figure\",\"type\":\"Plot\"}},\"id\":\"f3cdc0d8-adac-49b9-9fbc-6482781df496\",\"type\":\"PanTool\"},{\"attributes\":{},\"id\":\"e950218c-fac7-4639-8756-c994a145478e\",\"type\":\"ToolEvents\"},{\"attributes\":{},\"id\":\"173b2cda-03fc-455c-b1d1-fe19730c5d9c\",\"type\":\"BasicTickFormatter\"},{\"attributes\":{\"plot\":{\"id\":\"b8671c03-bd5d-41d4-8ce8-c21010794f62\",\"subtype\":\"Figure\",\"type\":\"Plot\"}},\"id\":\"8c1f2804-6bba-4252-8cee-69750441404c\",\"type\":\"HelpTool\"},{\"attributes\":{\"fill_alpha\":{\"value\":0.1},\"fill_color\":{\"value\":\"#1f77b4\"},\"line_alpha\":{\"value\":0.1},\"line_color\":{\"value\":\"#1f77b4\"},\"x\":{\"field\":\"x\"},\"y\":{\"field\":\"y\"}},\"id\":\"6c543b52-846d-48bd-9441-fcd05e2a4806\",\"type\":\"Circle\"},{\"attributes\":{\"line_color\":{\"value\":\"#1f77b4\"},\"x\":{\"field\":\"x\"},\"y\":{\"field\":\"y\"}},\"id\":\"dc4bfbc6-9513-452e-8863-d65a5399d880\",\"type\":\"Line\"}],\"root_ids\":[\"b8671c03-bd5d-41d4-8ce8-c21010794f62\"]},\"title\":\"Bokeh Application\",\"version\":\"0.12.4\"}};\n",
       "            var render_items = [{\"docid\":\"9725601c-4944-4918-8d1d-65c515ba2d99\",\"elementid\":\"a60d64c6-76f1-44b2-a966-b98bb7234673\",\"modelid\":\"b8671c03-bd5d-41d4-8ce8-c21010794f62\"}];\n",
       "            \n",
       "            Bokeh.embed.embed_items(docs_json, render_items);\n",
       "          };\n",
       "          if (document.readyState != \"loading\") fn();\n",
       "          else document.addEventListener(\"DOMContentLoaded\", fn);\n",
       "        })();\n",
       "      },\n",
       "      function(Bokeh) {\n",
       "      }\n",
       "    ];\n",
       "  \n",
       "    function run_inline_js() {\n",
       "      \n",
       "      if ((window.Bokeh !== undefined) || (force === true)) {\n",
       "        for (var i = 0; i < inline_js.length; i++) {\n",
       "          inline_js[i](window.Bokeh);\n",
       "        }if (force === true) {\n",
       "          display_loaded();\n",
       "        }} else if (Date.now() < window._bokeh_timeout) {\n",
       "        setTimeout(run_inline_js, 100);\n",
       "      } else if (!window._bokeh_failed_load) {\n",
       "        console.log(\"Bokeh: BokehJS failed to load within specified timeout.\");\n",
       "        window._bokeh_failed_load = true;\n",
       "      } else if (force !== true) {\n",
       "        var cell = $(document.getElementById(\"a60d64c6-76f1-44b2-a966-b98bb7234673\")).parents('.cell').data().cell;\n",
       "        cell.output_area.append_execute_result(NB_LOAD_WARNING)\n",
       "      }\n",
       "  \n",
       "    }\n",
       "  \n",
       "    if (window._bokeh_is_loading === 0) {\n",
       "      console.log(\"Bokeh: BokehJS loaded, going straight to plotting\");\n",
       "      run_inline_js();\n",
       "    } else {\n",
       "      load_libs(js_urls, function() {\n",
       "        console.log(\"Bokeh: BokehJS plotting callback run at\", now());\n",
       "        run_inline_js();\n",
       "      });\n",
       "    }\n",
       "  }(this));\n",
       "</script>"
      ]
     },
     "metadata": {},
     "output_type": "display_data"
    }
   ],
   "source": [
    "pred_values = lm.predict(X)\n",
    "pred_difference = (pred_values - y)\n",
    "fig = Figure()\n",
    "fig.circle(pred_values,pred_difference)\n",
    "fig.line(x=[pred_values.min(), pred_values.max()], y=[0,0])\n",
    "show(fig)"
   ]
  },
  {
   "cell_type": "markdown",
   "metadata": {},
   "source": [
    "## $R^2$\n",
    "\n",
    "The $R^2$ value provides us with the **proportion of variance** which is explained by the model.  It is a value between 0 and 1, with 0 being that the model has no explanation for any of the variance and 1 being that the regression line fits the data perfectly.\n",
    "\n",
    "The defined range of $R^2$ means that it can give a reasonable indication of how good a model is, although there is no defined range of what constitutes a good enough score.  This would naturally vary between domains, where there is a smaller margin of error than others.\n",
    "\n",
    "In scikit-learn, the **`score`** method calculates the $R^2$ value as follows:"
   ]
  },
  {
   "cell_type": "code",
   "execution_count": 13,
   "metadata": {
    "collapsed": false
   },
   "outputs": [
    {
     "data": {
      "text/plain": [
       "0.75995464577251504"
      ]
     },
     "execution_count": 13,
     "metadata": {},
     "output_type": "execute_result"
    }
   ],
   "source": [
    "lm.score(X, y)"
   ]
  },
  {
   "cell_type": "markdown",
   "metadata": {},
   "source": [
    "## RMSE\n",
    "\n",
    "We now use **RMSE** (Root Mean Squared Error) to **evaluate** our model.  Whereas the residual analysis considers the individual residual difference, RMSE takes the mean of these residuals squared and takes the square root of the total.  This output is the **standard deviation** of a model, and can be used as a measure of accuracy.\n",
    "\n",
    "Further information about [mean_squared_error](http://scikit-learn.org/stable/modules/generated/sklearn.metrics.mean_squared_error.html) and [square root](https://docs.scipy.org/doc/numpy/reference/generated/numpy.sqrt.html)\n",
    "\n",
    "There is a function for calculating the mean squared error, and then a numpy function to calculate the square root of this.  We test the ***actual*** data against the ***predicted*** data performed in the previous cell as follows:"
   ]
  },
  {
   "cell_type": "code",
   "execution_count": 14,
   "metadata": {
    "collapsed": false
   },
   "outputs": [
    {
     "name": "stdout",
     "output_type": "stream",
     "text": [
      "2.36507927986\n",
      "0.404351610737\n"
     ]
    }
   ],
   "source": [
    "print(np.sqrt(mean_squared_error(X, y)))\n",
    "print(np.sqrt(mean_squared_error(y, pred_values)))"
   ]
  },
  {
   "cell_type": "markdown",
   "metadata": {},
   "source": [
    "By default, the `test_size` argument is 0.25, which means that when it comes to validating the model, we test on a quarter of the data, having trained our model on the complement (three quarters).  Note the difference in size between the training and testing set, and the ordering of the indexes:"
   ]
  },
  {
   "cell_type": "code",
   "execution_count": 15,
   "metadata": {
    "collapsed": false
   },
   "outputs": [
    {
     "name": "stdout",
     "output_type": "stream",
     "text": [
      "Training data: 120\n",
      "     petal_length\n",
      "49           1.4\n",
      "52           4.9\n",
      "24           1.9\n",
      "74           4.3\n",
      "46           1.6 \n",
      "Test data: 30\n",
      "     petal_length\n",
      "7            1.5\n",
      "83           5.1\n",
      "91           4.6\n",
      "56           4.7\n",
      "86           4.7\n"
     ]
    }
   ],
   "source": [
    "print('Training data: %d\\n' % X_train.size, X_train.head(), '\\nTest data: %d\\n' % X_test.size, X_test.head())"
   ]
  },
  {
   "cell_type": "markdown",
   "metadata": {},
   "source": [
    "Our model gets trained as follows:"
   ]
  },
  {
   "cell_type": "code",
   "execution_count": 16,
   "metadata": {
    "collapsed": false
   },
   "outputs": [
    {
     "name": "stdout",
     "output_type": "stream",
     "text": [
      "[ 4.92269869  6.38264605  6.17987558  6.22042968  6.22042968  6.42320014\n",
      "  6.26098377  5.73378056  5.97710512  6.38264605  5.00380688  6.38264605\n",
      "  6.22042968  6.58541652  4.92269869  4.8821446   5.00380688  5.85544284\n",
      "  7.11261973  6.01765921  6.0987674   6.34209196  6.13932149  4.8415905\n",
      "  6.38264605  7.03151154  4.92269869  6.17987558  5.93655102  5.89599693]\n"
     ]
    }
   ],
   "source": [
    "lm = LinearRegression()\n",
    "lm.fit(X_train, y_train)\n",
    "y_pred = lm.predict(X_test)\n",
    "print(y_pred)"
   ]
  },
  {
   "cell_type": "markdown",
   "metadata": {},
   "source": [
    "## Try it yourself...\n",
    "\n",
    "There are two more features which you can use to predict the sepal length of a flower.  Try and find the best combination of predictor variables in the cells below.  If you need to create a new cell, click on `Insert -> Insert Cell Below`"
   ]
  },
  {
   "cell_type": "code",
   "execution_count": null,
   "metadata": {
    "collapsed": true
   },
   "outputs": [],
   "source": [
    "# YOUR CODE HERE\n"
   ]
  },
  {
   "cell_type": "code",
   "execution_count": null,
   "metadata": {
    "collapsed": true
   },
   "outputs": [],
   "source": []
  },
  {
   "cell_type": "code",
   "execution_count": null,
   "metadata": {
    "collapsed": true
   },
   "outputs": [],
   "source": [
    "# YOUR CODE HERE\n"
   ]
  },
  {
   "cell_type": "markdown",
   "metadata": {},
   "source": [
    "# Classification\n",
    "\n",
    "To finish, we will walk through an example classification with a spam filter.  The process with scikit-learn is similar to the one described for linear regression.  \n",
    "\n",
    "We won't go into too much detail on classification, which is the other form of supervised machine learning.  However in this notebook, we will present an example of using a **Bayesian classifier** to classify whether SMS text messages are \"spam\" or \"ham\".\n",
    "\n",
    "We use the dataset from [UCI Machine Learning Repository](https://archive.ics.uci.edu/ml/machine-learning-databases/00228/).  These data are stored in the same directory as the notebook in [spam.csv](./spam.csv)\n",
    "\n",
    "To start, we import the libraries we require to perform this classification, and load the data into a `DataFrame`.  Note that although it's a CSV file, we specify `sep` value as being `'\\t'`, which means that the two fields are separated by a tab character rather than a comma."
   ]
  },
  {
   "cell_type": "code",
   "execution_count": null,
   "metadata": {
    "collapsed": false
   },
   "outputs": [],
   "source": [
    "import numpy as np\n",
    "import pandas as pd\n",
    "import sklearn\n",
    "import sklearn.naive_bayes as nb\n",
    "import sklearn.feature_extraction.text as text\n",
    "import sklearn.model_selection as cv\n",
    "df = pd.read_csv('spam.csv', sep='\\t')\n",
    "df.head()\n"
   ]
  },
  {
   "cell_type": "markdown",
   "metadata": {},
   "source": [
    "In order to be able to get the features, we need to identify features (i.e., the words) which are classified in a particular way.  We need to get some measure of the way that the words are distributed within the messages, and use that to predict the classification into Ham or Spam.\n",
    "\n",
    "There are several ways of assigning the weight to a particular word.  [tf-idf](https://en.wikipedia.org/wiki/Tf%E2%80%93idf) is an information retrieval technique to identify the importance of words in a document based on the times a word is in an individual message, but taking account for the times it appears in the whole document - since some words generally appear more often than others.\n",
    "\n",
    "The [\"bag of words\"](https://en.wikipedia.org/wiki/Bag-of-words_model) is simple: it simply ignores grammar and makes a count of the times that a particular word appears.  This is a commonly used approach, which we will use below.\n",
    "\n",
    "Scikit-learn allows a particular `Vectorizer` (in this instance [CountVectorizer](http://scikit-learn.org/stable/modules/generated/sklearn.feature_extraction.text.CountVectorizer.html)) to be selected to implement one of these strategies, as follows:"
   ]
  },
  {
   "cell_type": "code",
   "execution_count": null,
   "metadata": {
    "collapsed": false
   },
   "outputs": [],
   "source": [
    "counts = text.CountVectorizer()"
   ]
  },
  {
   "cell_type": "markdown",
   "metadata": {},
   "source": [
    "For scikit-learn to be able to process the data, it needs the data to be as numbers.  The [fit_transform](http://scikit-learn.org/stable/modules/generated/sklearn.feature_extraction.text.CountVectorizer.html#sklearn.feature_extraction.text.CountVectorizer.fit_transform) function converts these data, and we convert the classification to a boolean, which Python can consider as an integer.\n",
    "\n",
    "We define the features as `X` and the labels as `y`"
   ]
  },
  {
   "cell_type": "code",
   "execution_count": null,
   "metadata": {
    "collapsed": false
   },
   "outputs": [],
   "source": [
    "# The fit_transform function \n",
    "X = counts.fit_transform(df['Message'])\n",
    "\n",
    "\n",
    "# Changing the classification field to a boolean, Python can regard it as an integer of 1 or 0\n",
    "y = df['Classification'] == 'spam'\n",
    "#print(X, y.head())"
   ]
  },
  {
   "cell_type": "markdown",
   "metadata": {},
   "source": [
    "As with linear regression, we split the data into a training and a testing set using the `train_test_split` function, and we fit the training data to the classifier.\n",
    "\n",
    "There are several different types of naive bayes classifier we can use.  In this instance, we are using the [multinomial naive bayes](http://scikit-learn.org/stable/modules/generated/sklearn.naive_bayes.MultinomialNB.html) classifier:"
   ]
  },
  {
   "cell_type": "code",
   "execution_count": null,
   "metadata": {
    "collapsed": false
   },
   "outputs": [],
   "source": [
    "# Split to a training set and a testing set\n",
    "(text_train, text_test, label_train, label_test) = cv.train_test_split(X, y, test_size=0.2)\n",
    "\n",
    "from sklearn.naive_bayes import MultinomialNB\n",
    "\n",
    "classifier = MultinomialNB()\n",
    "classifier.fit(text_train, label_train)"
   ]
  },
  {
   "cell_type": "markdown",
   "metadata": {},
   "source": [
    "Having trained the model, we can get a simple test of the accuracy by using the [score](http://scikit-learn.org/stable/modules/model_evaluation.html) method:"
   ]
  },
  {
   "cell_type": "code",
   "execution_count": null,
   "metadata": {
    "collapsed": false
   },
   "outputs": [],
   "source": [
    "classifier.score(text_test, label_test)"
   ]
  },
  {
   "cell_type": "markdown",
   "metadata": {},
   "source": [
    "We can see that the classifier is already performing very well.  Note that it will give a slightly different result each time, because the classifier is trained on different messages as the order is randomised.\n",
    "\n",
    "The [confusion matrix](http://scikit-learn.org/stable/modules/generated/sklearn.metrics.confusion_matrix.html) shows us the breakdown of instances of true positives, true negatives, false positives, and false negatives.  There is a method for this as well, used upon the test data.  "
   ]
  },
  {
   "cell_type": "code",
   "execution_count": null,
   "metadata": {
    "collapsed": false,
    "scrolled": true
   },
   "outputs": [],
   "source": [
    "from sklearn.metrics import confusion_matrix, f1_score\n",
    "\n",
    "predictions = classifier.predict(text_test)\n",
    "confusion_matrix(label_test, predictions)"
   ]
  },
  {
   "cell_type": "markdown",
   "metadata": {},
   "source": [
    "It is possible to try our own messages as well, and see how those perform.  Once again, they need to be transformed into the correct format for scikit-learn.  The output is as `False` (not spam) and `True` (spam):"
   ]
  },
  {
   "cell_type": "code",
   "execution_count": null,
   "metadata": {
    "collapsed": false
   },
   "outputs": [],
   "source": [
    "messages = [\"this is a test\", \"spam, spam, spam, glorious spam\"]\n",
    "transformed_messages = counts.transform(messages)\n",
    "predictions = classifier.predict(transformed_messages)\n",
    "print(predictions)"
   ]
  },
  {
   "cell_type": "code",
   "execution_count": null,
   "metadata": {
    "collapsed": true
   },
   "outputs": [],
   "source": []
  }
 ],
 "metadata": {
  "kernelspec": {
   "display_name": "Python 3",
   "language": "python",
   "name": "python3"
  },
  "language_info": {
   "codemirror_mode": {
    "name": "ipython",
    "version": 3
   },
   "file_extension": ".py",
   "mimetype": "text/x-python",
   "name": "python",
   "nbconvert_exporter": "python",
   "pygments_lexer": "ipython3",
   "version": "3.5.2"
  }
 },
 "nbformat": 4,
 "nbformat_minor": 2
}
